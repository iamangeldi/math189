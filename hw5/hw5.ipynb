{
 "cells": [
  {
   "cell_type": "markdown",
   "id": "3700434f",
   "metadata": {},
   "source": [
    "# HW 5 Math 189"
   ]
  },
  {
   "cell_type": "markdown",
   "id": "5ed89635",
   "metadata": {},
   "source": [
    "### By Imangali Amangeldi, Leah Seseri"
   ]
  },
  {
   "cell_type": "code",
   "execution_count": null,
   "id": "2e81807a",
   "metadata": {
    "vscode": {
     "languageId": "r"
    }
   },
   "outputs": [
    {
     "data": {
      "image/png": "[encoded data removed]",
      "text/plain": [
       "Plot with title \"Scatter plot of Hits vs Salary\""
      ]
     },
     "metadata": {
      "image/png": {
       "height": 420,
       "width": 420
      }
     },
     "output_type": "display_data"
    }
   ],
   "source": [
    "baseball <- read.csv(\"baseball_5.csv\")\n",
    "\n",
    "# Build a linear model\n",
    "model <- lm(Salary ~ Hits, data = baseball)\n",
    "\n",
    "# PLot the data\n",
    "plot(baseball$Hits, baseball$Salary,\n",
    "     xlab = \"Hits\",\n",
    "     ylab = \"Salary\",\n",
    "     main = \"Scatter plot of Hits vs Salary\",\n",
    "     pch = 19,\n",
    "     col = \"blue\")\n",
    "\n",
    "# Add the regression line\n",
    "abline(model, col = \"red\", lwd = 2)\n"
   ]
  },
  {
   "cell_type": "code",
   "execution_count": 17,
   "id": "bccbcda3",
   "metadata": {
    "vscode": {
     "languageId": "r"
    }
   },
   "outputs": [
    {
     "name": "stdout",
     "output_type": "stream",
     "text": [
      "Intercept Estimate: 63.04882 \n",
      "Hits Coefficient Estimate: 4.385439 \n"
     ]
    },
    {
     "name": "stdout",
     "output_type": "stream",
     "text": [
      "Standard Error for Intercept: 64.98222 \n",
      "Standard Error for Hits: 0.556082 \n"
     ]
    }
   ],
   "source": [
    "# Get coefficient estimates and standard errors\n",
    "coef_estimates <- summary(model)$coefficients[, \"Estimate\"]\n",
    "standard_errors <- summary(model)$coefficients[, \"Std. Error\"]\n",
    "\n",
    "# Print results\n",
    "cat(\"Intercept Estimate:\", coef_estimates[\"(Intercept)\"], \"\\n\")\n",
    "cat(\"Hits Coefficient Estimate:\", coef_estimates[\"Hits\"], \"\\n\")\n",
    "cat(\"Standard Error for Intercept:\", standard_errors[\"(Intercept)\"], \"\\n\")\n",
    "cat(\"Standard Error for Hits:\", standard_errors[\"Hits\"], \"\\n\")"
   ]
  },
  {
   "cell_type": "code",
   "execution_count": 18,
   "id": "c805eb83",
   "metadata": {
    "vscode": {
     "languageId": "r"
    }
   },
   "outputs": [
    {
     "name": "stdout",
     "output_type": "stream",
     "text": [
      "Residual Sum of Squares (RSS): 43058621 \n",
      "R-squared: 0.1924355 \n"
     ]
    }
   ],
   "source": [
    "# Get RSS from model summary \n",
    "rss <- sum(residuals(model)^2)\n",
    "\n",
    "# Get R squared\n",
    "r_squared <- summary(model)$r.squared\n",
    "\n",
    "# Print the results\n",
    "cat(\"Residual Sum of Squares (RSS):\", rss, \"\\n\")\n",
    "cat(\"R-squared:\", r_squared, \"\\n\")"
   ]
  },
  {
   "cell_type": "markdown",
   "id": "e03b7eb1",
   "metadata": {},
   "source": [
    "### TODO: Do you think this line fits the data well?"
   ]
  },
  {
   "cell_type": "code",
   "execution_count": 20,
   "id": "751d4361",
   "metadata": {
    "vscode": {
     "languageId": "r"
    }
   },
   "outputs": [
    {
     "name": "stdout",
     "output_type": "stream",
     "text": [
      "Intercept Estimate (Multiple): -109.8348 \n",
      "Hits Coefficient Estimate (Multiple): 1.846008 \n",
      "Walks Coefficient Estimate (Multiple): 3.461111 \n",
      "PutOuts Coefficient Estimate (Multiple): 0.2709063 \n",
      "CHits Coefficient Estimate (Multiple): 0.3124567 \n",
      "Standard Error for Intercept (Multiple): 56.44049 \n",
      "Standard Error for Hits (Multiple): 0.581061 \n",
      "Standard Error for Walks (Multiple): 1.211661 \n",
      "Standard Error for PutOuts (Multiple): 0.07861078 \n",
      "Standard Error for CHits (Multiple): 0.03349647 \n"
     ]
    }
   ],
   "source": [
    "# Build and fit a multiple linear regression model\n",
    "multi_model <- lm(Salary ~ Hits + Walks + PutOuts + CHits, data = baseball)\n",
    "\n",
    "# Get estimate coefficients and standard errors\n",
    "multi_coef_estimates <- summary(multi_model)$coefficients[, \"Estimate\"]\n",
    "multi_standard_errors <- summary(multi_model)$coefficients[, \"Std. Error\"]\n",
    "# Print results\n",
    "cat(\"Intercept Estimate (Multiple):\", multi_coef_estimates[\"(Intercept)\"], \"\\n\")\n",
    "cat(\"Hits Coefficient Estimate (Multiple):\", multi_coef_estimates[\"Hits\"], \"\\n\")\n",
    "cat(\"Walks Coefficient Estimate (Multiple):\", multi_coef_estimates[\"Walks\"], \"\\n\")\n",
    "cat(\"PutOuts Coefficient Estimate (Multiple):\", multi_coef_estimates[\"PutOuts\"], \"\\n\")\n",
    "cat(\"CHits Coefficient Estimate (Multiple):\", multi_coef_estimates[\"CHits\"], \"\\n\")\n",
    "cat(\"Standard Error for Intercept (Multiple):\", multi_standard_errors[\"(Intercept)\"], \"\\n\")\n",
    "cat(\"Standard Error for Hits (Multiple):\", multi_standard_errors[\"Hits\"], \"\\n\")\n",
    "cat(\"Standard Error for Walks (Multiple):\", multi_standard_errors[\"Walks\"], \"\\n\")\n",
    "cat(\"Standard Error for PutOuts (Multiple):\", multi_standard_errors[\"PutOuts\"], \"\\n\")\n",
    "cat(\"Standard Error for CHits (Multiple):\", multi_standard_errors[\"CHits\"], \"\\n\")"
   ]
  },
  {
   "cell_type": "code",
   "execution_count": 21,
   "id": "d2f344d9",
   "metadata": {
    "vscode": {
     "languageId": "r"
    }
   },
   "outputs": [
    {
     "name": "stdout",
     "output_type": "stream",
     "text": [
      "Residual Sum of Squares (RSS) (Multiple): 29223384 \n",
      "R-squared (Multiple): 0.4519154 \n"
     ]
    }
   ],
   "source": [
    "# Calculate RSS for multiple regression\n",
    "multi_rss <- sum(residuals(multi_model)^2)\n",
    "# Calculate R-squared for multiple regression\n",
    "multi_r_squared <- summary(multi_model)$r.squared\n",
    "# Print the results\n",
    "cat(\"Residual Sum of Squares (RSS) (Multiple):\", multi_rss, \"\\n\")\n",
    "cat(\"R-squared (Multiple):\", multi_r_squared, \"\\n\")"
   ]
  },
  {
   "cell_type": "code",
   "execution_count": 25,
   "id": "00a620d3",
   "metadata": {
    "vscode": {
     "languageId": "r"
    }
   },
   "outputs": [
    {
     "name": "stdout",
     "output_type": "stream",
     "text": [
      " (Intercept)         Hits        Walks      PutOuts        CHits \n",
      "5.273704e-02 1.669445e-03 4.632200e-03 6.636175e-04 5.108227e-18 \n"
     ]
    }
   ],
   "source": [
    "# Extract and print p-values (marginal effects)\n",
    "multi_coef <- summary(multi_model)$coefficients\n",
    "p_values <- multi_coef[, \"Pr(>|t|)\"]\n",
    "print(p_values)"
   ]
  },
  {
   "cell_type": "code",
   "execution_count": null,
   "id": "a720d975",
   "metadata": {
    "vscode": {
     "languageId": "r"
    }
   },
   "outputs": [],
   "source": []
  }
 ],
 "metadata": {
  "kernelspec": {
   "display_name": "R",
   "language": "R",
   "name": "ir"
  },
  "language_info": {
   "codemirror_mode": "r",
   "file_extension": ".r",
   "mimetype": "text/x-r-source",
   "name": "R",
   "pygments_lexer": "r",
   "version": "4.5.0"
  }
 },
 "nbformat": 4,
 "nbformat_minor": 5
}
