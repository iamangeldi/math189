{
 "cells": [
  {
   "cell_type": "markdown",
   "id": "af296e93-3717-4a5d-8c03-507a81760c28",
   "metadata": {},
   "source": [
    "# Math 189 Final Project"
   ]
  },
  {
   "cell_type": "markdown",
   "id": "fbc3e25b-1156-4a57-bc8f-4636d21253ad",
   "metadata": {},
   "source": [
    "### By Leah Seseri, Imangali Amangeldi"
   ]
  },
  {
   "cell_type": "markdown",
   "id": "5b3858b8-2986-4ef1-93da-b99289c1df4d",
   "metadata": {},
   "source": [
    "## "
   ]
  }
 ],
 "metadata": {
  "kernelspec": {
   "display_name": "R",
   "language": "R",
   "name": "ir"
  },
  "language_info": {
   "codemirror_mode": "r",
   "file_extension": ".r",
   "mimetype": "text/x-r-source",
   "name": "R",
   "pygments_lexer": "r",
   "version": "4.5.0"
  }
 },
 "nbformat": 4,
 "nbformat_minor": 5
}
