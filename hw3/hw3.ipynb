{
 "cells": [
  {
   "cell_type": "markdown",
   "id": "15849a7c",
   "metadata": {},
   "source": [
    "# MATH189: Homework 3"
   ]
  },
  {
   "cell_type": "markdown",
   "id": "2ba6a18b",
   "metadata": {},
   "source": [
    "By Leah Seseri, Imangali Amangeldi"
   ]
  },
  {
   "cell_type": "markdown",
   "id": "d207a77a",
   "metadata": {},
   "source": [
    "## Problem 1"
   ]
  },
  {
   "cell_type": "markdown",
   "id": "c66becfa",
   "metadata": {},
   "source": [
    "### Problem 1, Part 1: Hypothesis testing"
   ]
  },
  {
   "cell_type": "code",
   "execution_count": 31,
   "id": "d579b863",
   "metadata": {
    "vscode": {
     "languageId": "r"
    }
   },
   "outputs": [
    {
     "data": {
      "text/plain": [
       "\n",
       "\tPaired t-test\n",
       "\n",
       "data:  water$bottom and water$surface\n",
       "t = 4.8638, df = 9, p-value = 0.0008911\n",
       "alternative hypothesis: true mean difference is not equal to 0\n",
       "95 percent confidence interval:\n",
       " 0.043006 0.117794\n",
       "sample estimates:\n",
       "mean difference \n",
       "         0.0804 \n"
      ]
     },
     "metadata": {},
     "output_type": "display_data"
    }
   ],
   "source": [
    "water <- read.table(\"Water.txt\", fileEncoding = \"UTF-16LE\", header = TRUE)\n",
    "t.test(water$bottom, water$surface, paired=TRUE)"
   ]
  },
  {
   "cell_type": "markdown",
   "id": "ad6dae38",
   "metadata": {},
   "source": [
    "### Problem 1, Part 2: Assumption Disscusion"
   ]
  },
  {
   "cell_type": "markdown",
   "id": "e32a0086",
   "metadata": {},
   "source": [
    "The assumption of homoskedasticity is that for a two-sample test, the data from all groups have a common variance. So, if this assumption was violated and the the two groups have unequal variances then using this two-sample t-test that assumes equal variances would lead to wrong conclusions and could cause Type one errors where the null hypothesis is rejected when it is actually true. Also, Type two errors could increase where real differences could go undetected and incorrect confidence intervals could occur. Thus, if this assumption was violated a standard t-test is not reliable to produce accurate results."
   ]
  },
  {
   "cell_type": "markdown",
   "id": "f53706cd",
   "metadata": {},
   "source": [
    "# Problem 2"
   ]
  },
  {
   "cell_type": "markdown",
   "id": "3fe6e53b",
   "metadata": {},
   "source": [
    "Load the required packages as well as dataset"
   ]
  },
  {
   "cell_type": "code",
   "execution_count": 32,
   "id": "26bd78b8",
   "metadata": {
    "vscode": {
     "languageId": "r"
    }
   },
   "outputs": [
    {
     "name": "stderr",
     "output_type": "stream",
     "text": [
      "Warning message:\n",
      "\"package 'HSAUR3' is in use and will not be installed\"\n"
     ]
    }
   ],
   "source": [
    "# 1. Install the package\n",
    "install.packages(\"HSAUR3\", repos = \"https://cloud.r-project.org\")\n",
    "\n",
    "# 2. Load the package and data\n",
    "library(HSAUR3)\n",
    "data(\"pottery\")\n",
    "\n",
    "# 3. Write out to CSV\n",
    "write.csv(pottery,\n",
    "          file = \"pottery.csv\",\n",
    "          row.names = FALSE)"
   ]
  },
  {
   "cell_type": "markdown",
   "id": "244f0087",
   "metadata": {},
   "source": [
    "### Problem 2, Part 1: Calculating F-statistic"
   ]
  },
  {
   "cell_type": "code",
   "execution_count": 33,
   "id": "4dc01b81",
   "metadata": {
    "vscode": {
     "languageId": "r"
    }
   },
   "outputs": [
    {
     "name": "stdout",
     "output_type": "stream",
     "text": [
      "$`Al2O3.F value`\n",
      "[1] 26.00087       NA\n",
      "\n",
      "$`Fe2O3.F value`\n",
      "[1] 154.3197       NA\n",
      "\n",
      "$`MgO.F value`\n",
      "[1] 97.7673      NA\n",
      "\n",
      "$`CaO.F value`\n",
      "[1] 53.50213       NA\n",
      "\n",
      "$`Na2O.F value`\n",
      "[1] 10.46517       NA\n",
      "\n",
      "$`K2O.F value`\n",
      "[1] 81.76186       NA\n",
      "\n",
      "$`TiO2.F value`\n",
      "[1] 14.65845       NA\n",
      "\n",
      "$`MnO.F value`\n",
      "[1] 52.75629       NA\n",
      "\n",
      "$`BaO.F value`\n",
      "[1] 0.4590205        NA\n",
      "\n"
     ]
    }
   ],
   "source": [
    "# 1. Subset to kilns 1,2,4,5\n",
    "pot <- subset(pottery, kiln %in% c(1,2,4,5))\n",
    "\n",
    "# 2. Identify the nine chemical columns\n",
    "chemicals <- names(pot)[1:9]\n",
    "\n",
    "# 3. Function to extract the F‐value from an aov object\n",
    "getF <- function(var) {\n",
    "  f <- aov(as.formula(paste(var, \"~ factor(kiln)\")), data=pot)\n",
    "  summary(f)[[1]][\"F value\"][1]\n",
    "}\n",
    "\n",
    "# 4. Compute all nine F‐statistics at once\n",
    "F_stats <- sapply(chemicals, getF)\n",
    "\n",
    "# 5. View results\n",
    "print(F_stats)"
   ]
  },
  {
   "cell_type": "markdown",
   "id": "d5856e4c",
   "metadata": {},
   "source": [
    "### Problem 2, Part 2: Calculating Bonferroni adjusted p-values"
   ]
  },
  {
   "cell_type": "code",
   "execution_count": 34,
   "id": "52577c54",
   "metadata": {
    "vscode": {
     "languageId": "r"
    }
   },
   "outputs": [
    {
     "name": "stdout",
     "output_type": "stream",
     "text": [
      "       Al2O3        Fe2O3          MgO          CaO         Na2O          K2O \n",
      "2.083495e-09 1.126525e-21 3.434369e-18 6.880285e-14 3.480171e-05 7.126204e-17 \n",
      "        TiO2          MnO          BaO \n",
      "1.524685e-06 8.561655e-14 7.124818e-01 \n"
     ]
    }
   ],
   "source": [
    "# Compute p‐values for each chemical\n",
    "p_vals <- sapply(chemicals, function(var) {\n",
    "  fit <- aov(as.formula(paste(var, \"~ factor(kiln)\")), data = pot)\n",
    "  summary(fit)[[1]][[\"Pr(>F)\"]][1]\n",
    "})\n",
    "\n",
    "# View p‐values\n",
    "print(p_vals)"
   ]
  },
  {
   "cell_type": "code",
   "execution_count": 35,
   "id": "eb2e4ab0",
   "metadata": {
    "vscode": {
     "languageId": "r"
    }
   },
   "outputs": [
    {
     "name": "stdout",
     "output_type": "stream",
     "text": [
      "       Al2O3        Fe2O3          MgO          CaO         Na2O          K2O \n",
      "1.875146e-08 1.013872e-20 3.090932e-17 6.192257e-13 3.132154e-04 6.413583e-16 \n",
      "        TiO2          MnO          BaO \n",
      "1.372217e-05 7.705489e-13 1.000000e+00 \n"
     ]
    }
   ],
   "source": [
    "# Adjust p‐values using Bonferroni correction\n",
    "p_bonf <- p.adjust(p_vals, method = \"bonferroni\")\n",
    "\n",
    "# View adjusted p‐values\n",
    "print(p_bonf)"
   ]
  },
  {
   "cell_type": "markdown",
   "id": "e39b9985",
   "metadata": {},
   "source": [
    "Using a Bonferroni-corrected significance level of  \n",
    "$$\n",
    "\\alpha_{\\mathrm{BF}} = \\frac{0.05}{9} \\approx 0.0056,\n",
    "$$  \n",
    "we reject \\(H_0\\) for Al₂O₃, Fe₂O₃, MgO, CaO, Na₂O, K₂O, TiO₂, and MnO (all adjusted \\(p<0.0056\\)), indicating their mean concentrations differ across kilns 1, 2, 4 & 5.  \n",
    "BaO, with a Bonferroni-adjusted \\(p = 1.00\\), fails to reject \\(H_0\\) and therefore shows no significant site-to-site variation.\n"
   ]
  },
  {
   "cell_type": "code",
   "execution_count": 36,
   "id": "7d6818dc",
   "metadata": {
    "vscode": {
     "languageId": "r"
    }
   },
   "outputs": [
    {
     "name": "stdout",
     "output_type": "stream",
     "text": [
      "      Chemical      p_value   Bonferroni Reject\n",
      "Al2O3    Al2O3 2.083495e-09 1.875146e-08   TRUE\n",
      "Fe2O3    Fe2O3 1.126525e-21 1.013872e-20   TRUE\n",
      "MgO        MgO 3.434369e-18 3.090932e-17   TRUE\n",
      "CaO        CaO 6.880285e-14 6.192257e-13   TRUE\n",
      "Na2O      Na2O 3.480171e-05 3.132154e-04   TRUE\n",
      "K2O        K2O 7.126204e-17 6.413583e-16   TRUE\n",
      "TiO2      TiO2 1.524685e-06 1.372217e-05   TRUE\n",
      "MnO        MnO 8.561655e-14 7.705489e-13   TRUE\n",
      "BaO        BaO 7.124818e-01 1.000000e+00  FALSE\n"
     ]
    }
   ],
   "source": [
    "# Set the significance level for Bonferroni correction\n",
    "alpha_bf <- 0.05 / length(p_vals)\n",
    "\n",
    "# Combine results into a data frame, for better readability,\n",
    "# and adding rejection decision\n",
    "results <- data.frame(\n",
    "  Chemical   = chemicals,\n",
    "  p_value    = p_vals,\n",
    "  Bonferroni = p_bonf,\n",
    "  Reject     = p_bonf < alpha_bf\n",
    ")\n",
    "\n",
    "# View the results\n",
    "print(results)"
   ]
  },
  {
   "cell_type": "markdown",
   "id": "651fb799",
   "metadata": {},
   "source": [
    "### Problem 2, Part 2: Calculating Benjamini-Hochberg adjusted p-values"
   ]
  },
  {
   "cell_type": "code",
   "execution_count": 37,
   "id": "61f40799",
   "metadata": {
    "vscode": {
     "languageId": "r"
    }
   },
   "outputs": [
    {
     "name": "stdout",
     "output_type": "stream",
     "text": [
      "       Al2O3        Fe2O3          MgO          CaO         Na2O          K2O \n",
      "3.125243e-09 1.013872e-20 1.545466e-17 1.541098e-13 3.915192e-05 2.137861e-16 \n",
      "        TiO2          MnO          BaO \n",
      "1.960309e-06 1.541098e-13 7.124818e-01 \n"
     ]
    }
   ],
   "source": [
    "# Adjust p‐values using Benjamini-Hochberg correction\n",
    "p_bh <- p.adjust(p_vals, method = \"BH\")\n",
    "\n",
    "# View adjusted p‐values\n",
    "print(p_bh)"
   ]
  },
  {
   "cell_type": "markdown",
   "id": "f883b7e3",
   "metadata": {},
   "source": [
    "Using a Benjamini–Hochberg procedure to control the false discovery rate at  \n",
    "$$\n",
    "q = 0.05,\n",
    "$$  \n",
    "we reject \\(H_0\\) for Al₂O₃, Fe₂O₃, MgO, CaO, Na₂O, K₂O, TiO₂, and MnO (all BH-adjusted \\(p<0.05\\)), indicating their mean concentrations differ across kilns 1, 2, 4 & 5.  \n",
    "BaO, with a BH-adjusted \\(p = 0.7125\\), fails to reject \\(H_0\\) and therefore shows no significant site-to-site variation.\n"
   ]
  },
  {
   "cell_type": "code",
   "execution_count": 38,
   "id": "d0298ece",
   "metadata": {
    "vscode": {
     "languageId": "r"
    }
   },
   "outputs": [
    {
     "name": "stdout",
     "output_type": "stream",
     "text": [
      "      Chemical      p_value           BH Reject\n",
      "Al2O3    Al2O3 2.083495e-09 3.125243e-09   TRUE\n",
      "Fe2O3    Fe2O3 1.126525e-21 1.013872e-20   TRUE\n",
      "MgO        MgO 3.434369e-18 1.545466e-17   TRUE\n",
      "CaO        CaO 6.880285e-14 1.541098e-13   TRUE\n",
      "Na2O      Na2O 3.480171e-05 3.915192e-05   TRUE\n",
      "K2O        K2O 7.126204e-17 2.137861e-16   TRUE\n",
      "TiO2      TiO2 1.524685e-06 1.960309e-06   TRUE\n",
      "MnO        MnO 8.561655e-14 1.541098e-13   TRUE\n",
      "BaO        BaO 7.124818e-01 7.124818e-01  FALSE\n"
     ]
    }
   ],
   "source": [
    "# Set the significance level for Benjamini-Hochberg correction\n",
    "alpha <- 0.05\n",
    "\n",
    "# Combine results into a data frame, for better readability\n",
    "results <- data.frame(\n",
    "  Chemical   = chemicals,\n",
    "  p_value    = p_vals,\n",
    "  BH         = p_bh,\n",
    "  Reject     = p_bh < alpha\n",
    ")\n",
    "\n",
    "# View the results\n",
    "print(results)"
   ]
  }
 ],
 "metadata": {
  "kernelspec": {
   "display_name": "R",
   "language": "R",
   "name": "ir"
  },
  "language_info": {
   "codemirror_mode": "r",
   "file_extension": ".r",
   "mimetype": "text/x-r-source",
   "name": "R",
   "pygments_lexer": "r",
   "version": "4.5.0"
  }
 },
 "nbformat": 4,
 "nbformat_minor": 5
}
