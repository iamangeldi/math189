{
 "cells": [
  {
   "cell_type": "markdown",
   "id": "f37d4a0e-cc82-4ff8-99d8-300b2cf1be5e",
   "metadata": {},
   "source": [
    "Homework 2"
   ]
  },
  {
   "cell_type": "markdown",
   "id": "3146cfe7-24e3-4372-9de1-0b805783a1bb",
   "metadata": {},
   "source": [
    "Problem 1"
   ]
  },
  {
   "cell_type": "markdown",
   "id": "3f4eea7f-51eb-4967-843c-aa87572c781d",
   "metadata": {},
   "source": [
    "Question 1"
   ]
  },
  {
   "cell_type": "code",
   "execution_count": 1,
   "id": "6192f2a7-7493-49c2-a498-296c69083c89",
   "metadata": {
    "vscode": {
     "languageId": "r"
    }
   },
   "outputs": [
    {
     "data": {
      "text/plain": [
       "\n",
       "\tOne Sample t-test\n",
       "\n",
       "data:  calcium_vector\n",
       "t = -25.69, df = 736, p-value < 2.2e-16\n",
       "alternative hypothesis: true mean is not equal to 1000\n",
       "95 percent confidence interval:\n",
       " 595.3201 652.7784\n",
       "sample estimates:\n",
       "mean of x \n",
       " 624.0493 \n"
      ]
     },
     "metadata": {},
     "output_type": "display_data"
    }
   ],
   "source": [
    "nutrient_data <- read.table(\"nutrient.txt\", header = FALSE)\n",
    "colnames(nutrient_data) <- c(\"id\", \"calcium\", \"iron\", \"protein\", \"vitamin_a\", \"vitamin_c\")\n",
    "\n",
    "calcium_vector <- nutrient_data$calcium\n",
    "t.test(calcium_vector, mu=1000, alternative=\"two.sided\", conf.level = 0.95)"
   ]
  },
  {
   "cell_type": "code",
   "execution_count": 2,
   "id": "eaeeacdd-7a92-4616-9382-16b7f65f3a1b",
   "metadata": {
    "vscode": {
     "languageId": "r"
    }
   },
   "outputs": [
    {
     "data": {
      "text/plain": [
       "\n",
       "\tOne Sample t-test\n",
       "\n",
       "data:  iron_vector\n",
       "t = -17.557, df = 736, p-value < 2.2e-16\n",
       "alternative hypothesis: true mean is not equal to 15\n",
       "95 percent confidence interval:\n",
       " 10.69715 11.56265\n",
       "sample estimates:\n",
       "mean of x \n",
       "  11.1299 \n"
      ]
     },
     "metadata": {},
     "output_type": "display_data"
    }
   ],
   "source": [
    "iron_vector <- nutrient_data$iron\n",
    "t.test(iron_vector, mu=15, alternative=\"two.sided\", conf.level = 0.95)"
   ]
  },
  {
   "cell_type": "code",
   "execution_count": 3,
   "id": "79415adf-8fc5-46a2-ac5d-34f2d24344c2",
   "metadata": {
    "vscode": {
     "languageId": "r"
    }
   },
   "outputs": [
    {
     "data": {
      "text/plain": [
       "\n",
       "\tOne Sample t-test\n",
       "\n",
       "data:  protein_vector\n",
       "t = 5.1528, df = 736, p-value = 3.3e-07\n",
       "alternative hypothesis: true mean is not equal to 60\n",
       "95 percent confidence interval:\n",
       " 63.59235 68.01453\n",
       "sample estimates:\n",
       "mean of x \n",
       " 65.80344 \n"
      ]
     },
     "metadata": {},
     "output_type": "display_data"
    }
   ],
   "source": [
    "protein_vector <- nutrient_data$protein\n",
    "t.test(protein_vector, mu=60, alternative=\"two.sided\", conf.level = 0.95)"
   ]
  },
  {
   "cell_type": "code",
   "execution_count": 4,
   "id": "223cf6ab-39f9-4f5d-b1a4-863d1a2ada56",
   "metadata": {
    "vscode": {
     "languageId": "r"
    }
   },
   "outputs": [
    {
     "data": {
      "text/plain": [
       "\n",
       "\tOne Sample t-test\n",
       "\n",
       "data:  vitamin_a_vector\n",
       "t = 0.6587, df = 736, p-value = 0.5103\n",
       "alternative hypothesis: true mean is not equal to 800\n",
       "95 percent confidence interval:\n",
       " 721.5057 957.7650\n",
       "sample estimates:\n",
       "mean of x \n",
       " 839.6353 \n"
      ]
     },
     "metadata": {},
     "output_type": "display_data"
    }
   ],
   "source": [
    "vitamin_a_vector <- nutrient_data$vitamin_a\n",
    "t.test(vitamin_a_vector, mu=800, alternative=\"two.sided\", conf.level = 0.95)"
   ]
  },
  {
   "cell_type": "code",
   "execution_count": 5,
   "id": "683db19e-fbd4-4cc0-a30e-999aa54e0852",
   "metadata": {
    "vscode": {
     "languageId": "r"
    }
   },
   "outputs": [
    {
     "data": {
      "text/plain": [
       "\n",
       "\tOne Sample t-test\n",
       "\n",
       "data:  vitamin_c_vector\n",
       "t = 1.4491, df = 736, p-value = 0.1477\n",
       "alternative hypothesis: true mean is not equal to 75\n",
       "95 percent confidence interval:\n",
       " 73.6064 84.2505\n",
       "sample estimates:\n",
       "mean of x \n",
       " 78.92845 \n"
      ]
     },
     "metadata": {},
     "output_type": "display_data"
    }
   ],
   "source": [
    "vitamin_c_vector <- nutrient_data$vitamin_c\n",
    "t.test(vitamin_c_vector, mu=75, alternative=\"two.sided\", conf.level = 0.95)"
   ]
  },
  {
   "cell_type": "markdown",
   "id": "6768bbc6-8e50-4759-ba7d-7d47cdc5cb5b",
   "metadata": {},
   "source": [
    "Question 2"
   ]
  },
  {
   "cell_type": "markdown",
   "id": "9ccefd6e-51ae-4d40-8143-b822d50a768b",
   "metadata": {},
   "source": []
  },
  {
   "cell_type": "markdown",
   "id": "10a5501f-fdc6-414f-bdc0-007606bc2370",
   "metadata": {},
   "source": [
    "Problem 2"
   ]
  },
  {
   "cell_type": "markdown",
   "id": "93f935af-feb2-4fbf-8a33-ef4cc9056c35",
   "metadata": {},
   "source": [
    "Question 1"
   ]
  },
  {
   "cell_type": "code",
   "execution_count": 6,
   "id": "abc7d19c-5a95-453b-bc5a-59b573af1b1b",
   "metadata": {
    "vscode": {
     "languageId": "r"
    }
   },
   "outputs": [],
   "source": [
    "multiple_data <- read.table(\"multiple.txt\", header = FALSE)"
   ]
  },
  {
   "cell_type": "code",
   "execution_count": 7,
   "id": "ee607547-d512-446b-992c-372cd3c50c41",
   "metadata": {
    "vscode": {
     "languageId": "r"
    }
   },
   "outputs": [
    {
     "data": {
      "text/html": [
       "<style>\n",
       ".dl-inline {width: auto; margin:0; padding: 0}\n",
       ".dl-inline>dt, .dl-inline>dd {float: none; width: auto; display: inline-block}\n",
       ".dl-inline>dt::after {content: \":\\0020\"; padding-right: .5ex}\n",
       ".dl-inline>dt:not(:first-of-type) {padding-left: .5ex}\n",
       "</style><dl class=dl-inline><dt>V1</dt><dd>7.47746775659023e-34</dd><dt>V2</dt><dd>1.03064398495258e-32</dd><dt>V3</dt><dd>1.61395302713839e-33</dd><dt>V4</dt><dd>5.10779837629424e-37</dd><dt>V5</dt><dd>4.29968097172983e-35</dd><dt>V6</dt><dd>4.1810525481671e-33</dd><dt>V7</dt><dd>1.78242408178277e-39</dd><dt>V8</dt><dd>2.28174441201159e-34</dd><dt>V9</dt><dd>4.76775841445526e-34</dd><dt>V10</dt><dd>9.02076760281856e-42</dd><dt>V11</dt><dd>0.850179982432762</dd><dt>V12</dt><dd>0.338765498258577</dd><dt>V13</dt><dd>0.843359129407811</dd><dt>V14</dt><dd>0.235308124130329</dd><dt>V15</dt><dd>0.834644269298848</dd><dt>V16</dt><dd>0.341008356157989</dd><dt>V17</dt><dd>0.449528506093358</dd><dt>V18</dt><dd>0.898857261608336</dd><dt>V19</dt><dd>0.485535990506368</dd><dt>V20</dt><dd>0.0829850824807014</dd><dt>V21</dt><dd>0.743577772539347</dd><dt>V22</dt><dd>0.43446053516364</dd><dt>V23</dt><dd>0.552185499636319</dd><dt>V24</dt><dd>0.477519441328518</dd><dt>V25</dt><dd>0.757389983147219</dd><dt>V26</dt><dd>0.135419740414867</dd><dt>V27</dt><dd>0.992726228670374</dd><dt>V28</dt><dd>0.294432663174804</dd><dt>V29</dt><dd>0.678325600918669</dd><dt>V30</dt><dd>0.189893918373666</dd><dt>V31</dt><dd>0.471682828385853</dd><dt>V32</dt><dd>0.0930268087640287</dd><dt>V33</dt><dd>0.473666038885951</dd><dt>V34</dt><dd>0.918999263568124</dd><dt>V35</dt><dd>0.213851517214102</dd><dt>V36</dt><dd>0.651992100833937</dd><dt>V37</dt><dd>0.340871566095653</dd><dt>V38</dt><dd>0.221112257908472</dd><dt>V39</dt><dd>0.880623764186072</dd><dt>V40</dt><dd>0.0731526848348313</dd><dt>V41</dt><dd>0.717156744286536</dd><dt>V42</dt><dd>0.647299588041858</dd><dt>V43</dt><dd>0.691505519834985</dd><dt>V44</dt><dd>0.0247506710898862</dd><dt>V45</dt><dd>0.219132096011316</dd><dt>V46</dt><dd>0.76781189739943</dd><dt>V47</dt><dd>0.348936895166651</dd><dt>V48</dt><dd>0.136753140106049</dd><dt>V49</dt><dd>0.888678378640289</dd><dt>V50</dt><dd>0.731660902500307</dd></dl>\n"
      ],
      "text/latex": [
       "\\begin{description*}\n",
       "\\item[V1] 7.47746775659023e-34\n",
       "\\item[V2] 1.03064398495258e-32\n",
       "\\item[V3] 1.61395302713839e-33\n",
       "\\item[V4] 5.10779837629424e-37\n",
       "\\item[V5] 4.29968097172983e-35\n",
       "\\item[V6] 4.1810525481671e-33\n",
       "\\item[V7] 1.78242408178277e-39\n",
       "\\item[V8] 2.28174441201159e-34\n",
       "\\item[V9] 4.76775841445526e-34\n",
       "\\item[V10] 9.02076760281856e-42\n",
       "\\item[V11] 0.850179982432762\n",
       "\\item[V12] 0.338765498258577\n",
       "\\item[V13] 0.843359129407811\n",
       "\\item[V14] 0.235308124130329\n",
       "\\item[V15] 0.834644269298848\n",
       "\\item[V16] 0.341008356157989\n",
       "\\item[V17] 0.449528506093358\n",
       "\\item[V18] 0.898857261608336\n",
       "\\item[V19] 0.485535990506368\n",
       "\\item[V20] 0.0829850824807014\n",
       "\\item[V21] 0.743577772539347\n",
       "\\item[V22] 0.43446053516364\n",
       "\\item[V23] 0.552185499636319\n",
       "\\item[V24] 0.477519441328518\n",
       "\\item[V25] 0.757389983147219\n",
       "\\item[V26] 0.135419740414867\n",
       "\\item[V27] 0.992726228670374\n",
       "\\item[V28] 0.294432663174804\n",
       "\\item[V29] 0.678325600918669\n",
       "\\item[V30] 0.189893918373666\n",
       "\\item[V31] 0.471682828385853\n",
       "\\item[V32] 0.0930268087640287\n",
       "\\item[V33] 0.473666038885951\n",
       "\\item[V34] 0.918999263568124\n",
       "\\item[V35] 0.213851517214102\n",
       "\\item[V36] 0.651992100833937\n",
       "\\item[V37] 0.340871566095653\n",
       "\\item[V38] 0.221112257908472\n",
       "\\item[V39] 0.880623764186072\n",
       "\\item[V40] 0.0731526848348313\n",
       "\\item[V41] 0.717156744286536\n",
       "\\item[V42] 0.647299588041858\n",
       "\\item[V43] 0.691505519834985\n",
       "\\item[V44] 0.0247506710898862\n",
       "\\item[V45] 0.219132096011316\n",
       "\\item[V46] 0.76781189739943\n",
       "\\item[V47] 0.348936895166651\n",
       "\\item[V48] 0.136753140106049\n",
       "\\item[V49] 0.888678378640289\n",
       "\\item[V50] 0.731660902500307\n",
       "\\end{description*}\n"
      ],
      "text/markdown": [
       "V1\n",
       ":   7.47746775659023e-34V2\n",
       ":   1.03064398495258e-32V3\n",
       ":   1.61395302713839e-33V4\n",
       ":   5.10779837629424e-37V5\n",
       ":   4.29968097172983e-35V6\n",
       ":   4.1810525481671e-33V7\n",
       ":   1.78242408178277e-39V8\n",
       ":   2.28174441201159e-34V9\n",
       ":   4.76775841445526e-34V10\n",
       ":   9.02076760281856e-42V11\n",
       ":   0.850179982432762V12\n",
       ":   0.338765498258577V13\n",
       ":   0.843359129407811V14\n",
       ":   0.235308124130329V15\n",
       ":   0.834644269298848V16\n",
       ":   0.341008356157989V17\n",
       ":   0.449528506093358V18\n",
       ":   0.898857261608336V19\n",
       ":   0.485535990506368V20\n",
       ":   0.0829850824807014V21\n",
       ":   0.743577772539347V22\n",
       ":   0.43446053516364V23\n",
       ":   0.552185499636319V24\n",
       ":   0.477519441328518V25\n",
       ":   0.757389983147219V26\n",
       ":   0.135419740414867V27\n",
       ":   0.992726228670374V28\n",
       ":   0.294432663174804V29\n",
       ":   0.678325600918669V30\n",
       ":   0.189893918373666V31\n",
       ":   0.471682828385853V32\n",
       ":   0.0930268087640287V33\n",
       ":   0.473666038885951V34\n",
       ":   0.918999263568124V35\n",
       ":   0.213851517214102V36\n",
       ":   0.651992100833937V37\n",
       ":   0.340871566095653V38\n",
       ":   0.221112257908472V39\n",
       ":   0.880623764186072V40\n",
       ":   0.0731526848348313V41\n",
       ":   0.717156744286536V42\n",
       ":   0.647299588041858V43\n",
       ":   0.691505519834985V44\n",
       ":   0.0247506710898862V45\n",
       ":   0.219132096011316V46\n",
       ":   0.76781189739943V47\n",
       ":   0.348936895166651V48\n",
       ":   0.136753140106049V49\n",
       ":   0.888678378640289V50\n",
       ":   0.731660902500307\n",
       "\n"
      ],
      "text/plain": [
       "          V1           V2           V3           V4           V5           V6 \n",
       "7.477468e-34 1.030644e-32 1.613953e-33 5.107798e-37 4.299681e-35 4.181053e-33 \n",
       "          V7           V8           V9          V10          V11          V12 \n",
       "1.782424e-39 2.281744e-34 4.767758e-34 9.020768e-42 8.501800e-01 3.387655e-01 \n",
       "         V13          V14          V15          V16          V17          V18 \n",
       "8.433591e-01 2.353081e-01 8.346443e-01 3.410084e-01 4.495285e-01 8.988573e-01 \n",
       "         V19          V20          V21          V22          V23          V24 \n",
       "4.855360e-01 8.298508e-02 7.435778e-01 4.344605e-01 5.521855e-01 4.775194e-01 \n",
       "         V25          V26          V27          V28          V29          V30 \n",
       "7.573900e-01 1.354197e-01 9.927262e-01 2.944327e-01 6.783256e-01 1.898939e-01 \n",
       "         V31          V32          V33          V34          V35          V36 \n",
       "4.716828e-01 9.302681e-02 4.736660e-01 9.189993e-01 2.138515e-01 6.519921e-01 \n",
       "         V37          V38          V39          V40          V41          V42 \n",
       "3.408716e-01 2.211123e-01 8.806238e-01 7.315268e-02 7.171567e-01 6.472996e-01 \n",
       "         V43          V44          V45          V46          V47          V48 \n",
       "6.915055e-01 2.475067e-02 2.191321e-01 7.678119e-01 3.489369e-01 1.367531e-01 \n",
       "         V49          V50 \n",
       "8.886784e-01 7.316609e-01 "
      ]
     },
     "metadata": {},
     "output_type": "display_data"
    }
   ],
   "source": [
    "p_values <- apply(multiple_data, 2, function(x) t.test(x, mu = 0)$p.value)\n",
    "p_values"
   ]
  },
  {
   "cell_type": "code",
   "execution_count": 8,
   "id": "25976a78-1f40-45d3-98bf-735aeb919937",
   "metadata": {
    "vscode": {
     "languageId": "r"
    }
   },
   "outputs": [
    {
     "data": {
      "text/html": [
       "<style>\n",
       ".dl-inline {width: auto; margin:0; padding: 0}\n",
       ".dl-inline>dt, .dl-inline>dd {float: none; width: auto; display: inline-block}\n",
       ".dl-inline>dt::after {content: \":\\0020\"; padding-right: .5ex}\n",
       ".dl-inline>dt:not(:first-of-type) {padding-left: .5ex}\n",
       "</style><dl class=dl-inline><dt>V1</dt><dd>1</dd><dt>V2</dt><dd>2</dd><dt>V3</dt><dd>3</dd><dt>V4</dt><dd>4</dd><dt>V5</dt><dd>5</dd><dt>V6</dt><dd>6</dd><dt>V7</dt><dd>7</dd><dt>V8</dt><dd>8</dd><dt>V9</dt><dd>9</dd><dt>V10</dt><dd>10</dd><dt>V20</dt><dd>20</dd><dt>V32</dt><dd>32</dd><dt>V40</dt><dd>40</dd><dt>V44</dt><dd>44</dd></dl>\n"
      ],
      "text/latex": [
       "\\begin{description*}\n",
       "\\item[V1] 1\n",
       "\\item[V2] 2\n",
       "\\item[V3] 3\n",
       "\\item[V4] 4\n",
       "\\item[V5] 5\n",
       "\\item[V6] 6\n",
       "\\item[V7] 7\n",
       "\\item[V8] 8\n",
       "\\item[V9] 9\n",
       "\\item[V10] 10\n",
       "\\item[V20] 20\n",
       "\\item[V32] 32\n",
       "\\item[V40] 40\n",
       "\\item[V44] 44\n",
       "\\end{description*}\n"
      ],
      "text/markdown": [
       "V1\n",
       ":   1V2\n",
       ":   2V3\n",
       ":   3V4\n",
       ":   4V5\n",
       ":   5V6\n",
       ":   6V7\n",
       ":   7V8\n",
       ":   8V9\n",
       ":   9V10\n",
       ":   10V20\n",
       ":   20V32\n",
       ":   32V40\n",
       ":   40V44\n",
       ":   44\n",
       "\n"
      ],
      "text/plain": [
       " V1  V2  V3  V4  V5  V6  V7  V8  V9 V10 V20 V32 V40 V44 \n",
       "  1   2   3   4   5   6   7   8   9  10  20  32  40  44 "
      ]
     },
     "metadata": {},
     "output_type": "display_data"
    }
   ],
   "source": [
    "significant_vars <- which(p_values < 0.1)\n",
    "significant_vars"
   ]
  },
  {
   "cell_type": "markdown",
   "id": "fb7b6e58",
   "metadata": {},
   "source": [
    "Question 2"
   ]
  },
  {
   "cell_type": "code",
   "execution_count": 12,
   "id": "1c5af282-d1b8-4ea4-8321-998025892580",
   "metadata": {
    "vscode": {
     "languageId": "r"
    }
   },
   "outputs": [
    {
     "data": {
      "text/html": [
       "4"
      ],
      "text/latex": [
       "4"
      ],
      "text/markdown": [
       "4"
      ],
      "text/plain": [
       "[1] 4"
      ]
     },
     "metadata": {},
     "output_type": "display_data"
    }
   ],
   "source": [
    "type_one <- sum(significant_vars > 10)\n",
    "type_one"
   ]
  },
  {
   "cell_type": "code",
   "execution_count": 13,
   "id": "abaaa982-90f8-4e8c-89b9-3c10c0541c9e",
   "metadata": {
    "vscode": {
     "languageId": "r"
    }
   },
   "outputs": [
    {
     "data": {
      "text/html": [
       "0.985219117058565"
      ],
      "text/latex": [
       "0.985219117058565"
      ],
      "text/markdown": [
       "0.985219117058565"
      ],
      "text/plain": [
       "[1] 0.9852191"
      ]
     },
     "metadata": {},
     "output_type": "display_data"
    }
   ],
   "source": [
    "fwer <- 1 - (1 - 0.1) ** 40\n",
    "fwer"
   ]
  },
  {
   "cell_type": "code",
   "execution_count": 14,
   "id": "cf41ad61-b340-4149-91d9-dffef1b07b3e",
   "metadata": {
    "vscode": {
     "languageId": "r"
    }
   },
   "outputs": [
    {
     "data": {
      "text/html": [
       "0.285714285714286"
      ],
      "text/latex": [
       "0.285714285714286"
      ],
      "text/markdown": [
       "0.285714285714286"
      ],
      "text/plain": [
       "[1] 0.2857143"
      ]
     },
     "metadata": {},
     "output_type": "display_data"
    }
   ],
   "source": [
    "fdp <- type_one / length(significant_vars)\n",
    "fdp"
   ]
  },
  {
   "cell_type": "markdown",
   "id": "ff42c994",
   "metadata": {},
   "source": [
    "Question 3"
   ]
  },
  {
   "cell_type": "code",
   "execution_count": 20,
   "id": "f89518fd",
   "metadata": {
    "vscode": {
     "languageId": "r"
    }
   },
   "outputs": [
    {
     "data": {
      "text/html": [
       "<style>\n",
       ".dl-inline {width: auto; margin:0; padding: 0}\n",
       ".dl-inline>dt, .dl-inline>dd {float: none; width: auto; display: inline-block}\n",
       ".dl-inline>dt::after {content: \":\\0020\"; padding-right: .5ex}\n",
       ".dl-inline>dt:not(:first-of-type) {padding-left: .5ex}\n",
       "</style><dl class=dl-inline><dt>V1</dt><dd>3.73873387829511e-32</dd><dt>V2</dt><dd>5.15321992476291e-31</dd><dt>V3</dt><dd>8.06976513569195e-32</dd><dt>V4</dt><dd>2.55389918814712e-35</dd><dt>V5</dt><dd>2.14984048586491e-33</dd><dt>V6</dt><dd>2.09052627408355e-31</dd><dt>V7</dt><dd>8.91212040891386e-38</dd><dt>V8</dt><dd>1.1408722060058e-32</dd><dt>V9</dt><dd>2.38387920722763e-32</dd><dt>V10</dt><dd>4.51038380140928e-40</dd><dt>V11</dt><dd>1</dd><dt>V12</dt><dd>1</dd><dt>V13</dt><dd>1</dd><dt>V14</dt><dd>1</dd><dt>V15</dt><dd>1</dd><dt>V16</dt><dd>1</dd><dt>V17</dt><dd>1</dd><dt>V18</dt><dd>1</dd><dt>V19</dt><dd>1</dd><dt>V20</dt><dd>1</dd><dt>V21</dt><dd>1</dd><dt>V22</dt><dd>1</dd><dt>V23</dt><dd>1</dd><dt>V24</dt><dd>1</dd><dt>V25</dt><dd>1</dd><dt>V26</dt><dd>1</dd><dt>V27</dt><dd>1</dd><dt>V28</dt><dd>1</dd><dt>V29</dt><dd>1</dd><dt>V30</dt><dd>1</dd><dt>V31</dt><dd>1</dd><dt>V32</dt><dd>1</dd><dt>V33</dt><dd>1</dd><dt>V34</dt><dd>1</dd><dt>V35</dt><dd>1</dd><dt>V36</dt><dd>1</dd><dt>V37</dt><dd>1</dd><dt>V38</dt><dd>1</dd><dt>V39</dt><dd>1</dd><dt>V40</dt><dd>1</dd><dt>V41</dt><dd>1</dd><dt>V42</dt><dd>1</dd><dt>V43</dt><dd>1</dd><dt>V44</dt><dd>1</dd><dt>V45</dt><dd>1</dd><dt>V46</dt><dd>1</dd><dt>V47</dt><dd>1</dd><dt>V48</dt><dd>1</dd><dt>V49</dt><dd>1</dd><dt>V50</dt><dd>1</dd></dl>\n"
      ],
      "text/latex": [
       "\\begin{description*}\n",
       "\\item[V1] 3.73873387829511e-32\n",
       "\\item[V2] 5.15321992476291e-31\n",
       "\\item[V3] 8.06976513569195e-32\n",
       "\\item[V4] 2.55389918814712e-35\n",
       "\\item[V5] 2.14984048586491e-33\n",
       "\\item[V6] 2.09052627408355e-31\n",
       "\\item[V7] 8.91212040891386e-38\n",
       "\\item[V8] 1.1408722060058e-32\n",
       "\\item[V9] 2.38387920722763e-32\n",
       "\\item[V10] 4.51038380140928e-40\n",
       "\\item[V11] 1\n",
       "\\item[V12] 1\n",
       "\\item[V13] 1\n",
       "\\item[V14] 1\n",
       "\\item[V15] 1\n",
       "\\item[V16] 1\n",
       "\\item[V17] 1\n",
       "\\item[V18] 1\n",
       "\\item[V19] 1\n",
       "\\item[V20] 1\n",
       "\\item[V21] 1\n",
       "\\item[V22] 1\n",
       "\\item[V23] 1\n",
       "\\item[V24] 1\n",
       "\\item[V25] 1\n",
       "\\item[V26] 1\n",
       "\\item[V27] 1\n",
       "\\item[V28] 1\n",
       "\\item[V29] 1\n",
       "\\item[V30] 1\n",
       "\\item[V31] 1\n",
       "\\item[V32] 1\n",
       "\\item[V33] 1\n",
       "\\item[V34] 1\n",
       "\\item[V35] 1\n",
       "\\item[V36] 1\n",
       "\\item[V37] 1\n",
       "\\item[V38] 1\n",
       "\\item[V39] 1\n",
       "\\item[V40] 1\n",
       "\\item[V41] 1\n",
       "\\item[V42] 1\n",
       "\\item[V43] 1\n",
       "\\item[V44] 1\n",
       "\\item[V45] 1\n",
       "\\item[V46] 1\n",
       "\\item[V47] 1\n",
       "\\item[V48] 1\n",
       "\\item[V49] 1\n",
       "\\item[V50] 1\n",
       "\\end{description*}\n"
      ],
      "text/markdown": [
       "V1\n",
       ":   3.73873387829511e-32V2\n",
       ":   5.15321992476291e-31V3\n",
       ":   8.06976513569195e-32V4\n",
       ":   2.55389918814712e-35V5\n",
       ":   2.14984048586491e-33V6\n",
       ":   2.09052627408355e-31V7\n",
       ":   8.91212040891386e-38V8\n",
       ":   1.1408722060058e-32V9\n",
       ":   2.38387920722763e-32V10\n",
       ":   4.51038380140928e-40V11\n",
       ":   1V12\n",
       ":   1V13\n",
       ":   1V14\n",
       ":   1V15\n",
       ":   1V16\n",
       ":   1V17\n",
       ":   1V18\n",
       ":   1V19\n",
       ":   1V20\n",
       ":   1V21\n",
       ":   1V22\n",
       ":   1V23\n",
       ":   1V24\n",
       ":   1V25\n",
       ":   1V26\n",
       ":   1V27\n",
       ":   1V28\n",
       ":   1V29\n",
       ":   1V30\n",
       ":   1V31\n",
       ":   1V32\n",
       ":   1V33\n",
       ":   1V34\n",
       ":   1V35\n",
       ":   1V36\n",
       ":   1V37\n",
       ":   1V38\n",
       ":   1V39\n",
       ":   1V40\n",
       ":   1V41\n",
       ":   1V42\n",
       ":   1V43\n",
       ":   1V44\n",
       ":   1V45\n",
       ":   1V46\n",
       ":   1V47\n",
       ":   1V48\n",
       ":   1V49\n",
       ":   1V50\n",
       ":   1\n",
       "\n"
      ],
      "text/plain": [
       "          V1           V2           V3           V4           V5           V6 \n",
       "3.738734e-32 5.153220e-31 8.069765e-32 2.553899e-35 2.149840e-33 2.090526e-31 \n",
       "          V7           V8           V9          V10          V11          V12 \n",
       "8.912120e-38 1.140872e-32 2.383879e-32 4.510384e-40 1.000000e+00 1.000000e+00 \n",
       "         V13          V14          V15          V16          V17          V18 \n",
       "1.000000e+00 1.000000e+00 1.000000e+00 1.000000e+00 1.000000e+00 1.000000e+00 \n",
       "         V19          V20          V21          V22          V23          V24 \n",
       "1.000000e+00 1.000000e+00 1.000000e+00 1.000000e+00 1.000000e+00 1.000000e+00 \n",
       "         V25          V26          V27          V28          V29          V30 \n",
       "1.000000e+00 1.000000e+00 1.000000e+00 1.000000e+00 1.000000e+00 1.000000e+00 \n",
       "         V31          V32          V33          V34          V35          V36 \n",
       "1.000000e+00 1.000000e+00 1.000000e+00 1.000000e+00 1.000000e+00 1.000000e+00 \n",
       "         V37          V38          V39          V40          V41          V42 \n",
       "1.000000e+00 1.000000e+00 1.000000e+00 1.000000e+00 1.000000e+00 1.000000e+00 \n",
       "         V43          V44          V45          V46          V47          V48 \n",
       "1.000000e+00 1.000000e+00 1.000000e+00 1.000000e+00 1.000000e+00 1.000000e+00 \n",
       "         V49          V50 \n",
       "1.000000e+00 1.000000e+00 "
      ]
     },
     "metadata": {},
     "output_type": "display_data"
    }
   ],
   "source": [
    "p_adjusted_bonferroni <- p.adjust(p_values, method = \"bonferroni\")\n",
    "p_adjusted_bonferroni"
   ]
  },
  {
   "cell_type": "code",
   "execution_count": 21,
   "id": "9145448a",
   "metadata": {
    "vscode": {
     "languageId": "r"
    }
   },
   "outputs": [
    {
     "data": {
      "text/html": [
       "<style>\n",
       ".dl-inline {width: auto; margin:0; padding: 0}\n",
       ".dl-inline>dt, .dl-inline>dd {float: none; width: auto; display: inline-block}\n",
       ".dl-inline>dt::after {content: \":\\0020\"; padding-right: .5ex}\n",
       ".dl-inline>dt:not(:first-of-type) {padding-left: .5ex}\n",
       "</style><dl class=dl-inline><dt>V1</dt><dd>1</dd><dt>V2</dt><dd>2</dd><dt>V3</dt><dd>3</dd><dt>V4</dt><dd>4</dd><dt>V5</dt><dd>5</dd><dt>V6</dt><dd>6</dd><dt>V7</dt><dd>7</dd><dt>V8</dt><dd>8</dd><dt>V9</dt><dd>9</dd><dt>V10</dt><dd>10</dd></dl>\n"
      ],
      "text/latex": [
       "\\begin{description*}\n",
       "\\item[V1] 1\n",
       "\\item[V2] 2\n",
       "\\item[V3] 3\n",
       "\\item[V4] 4\n",
       "\\item[V5] 5\n",
       "\\item[V6] 6\n",
       "\\item[V7] 7\n",
       "\\item[V8] 8\n",
       "\\item[V9] 9\n",
       "\\item[V10] 10\n",
       "\\end{description*}\n"
      ],
      "text/markdown": [
       "V1\n",
       ":   1V2\n",
       ":   2V3\n",
       ":   3V4\n",
       ":   4V5\n",
       ":   5V6\n",
       ":   6V7\n",
       ":   7V8\n",
       ":   8V9\n",
       ":   9V10\n",
       ":   10\n",
       "\n"
      ],
      "text/plain": [
       " V1  V2  V3  V4  V5  V6  V7  V8  V9 V10 \n",
       "  1   2   3   4   5   6   7   8   9  10 "
      ]
     },
     "metadata": {},
     "output_type": "display_data"
    }
   ],
   "source": [
    "significant_vars_bonf <- which(p_adjusted_bonferroni < 0.1)\n",
    "significant_vars_bonf"
   ]
  },
  {
   "cell_type": "code",
   "execution_count": 22,
   "id": "7c928e45",
   "metadata": {
    "vscode": {
     "languageId": "r"
    }
   },
   "outputs": [
    {
     "data": {
      "text/html": [
       "0.0952758684108751"
      ],
      "text/latex": [
       "0.0952758684108751"
      ],
      "text/markdown": [
       "0.0952758684108751"
      ],
      "text/plain": [
       "[1] 0.09527587"
      ]
     },
     "metadata": {},
     "output_type": "display_data"
    }
   ],
   "source": [
    "fwer_bonferroni <- 1 - (1 - (0.1 / 40)) ** 40\n",
    "fwer_bonferroni"
   ]
  },
  {
   "cell_type": "markdown",
   "id": "6ae63c48",
   "metadata": {},
   "source": [
    "Question 4"
   ]
  },
  {
   "cell_type": "code",
   "execution_count": 24,
   "id": "a92f485c",
   "metadata": {
    "vscode": {
     "languageId": "r"
    }
   },
   "outputs": [
    {
     "data": {
      "text/html": [
       "<style>\n",
       ".dl-inline {width: auto; margin:0; padding: 0}\n",
       ".dl-inline>dt, .dl-inline>dd {float: none; width: auto; display: inline-block}\n",
       ".dl-inline>dt::after {content: \":\\0020\"; padding-right: .5ex}\n",
       ".dl-inline>dt:not(:first-of-type) {padding-left: .5ex}\n",
       "</style><dl class=dl-inline><dt>V1</dt><dd>5.34104839756445e-33</dd><dt>V2</dt><dd>5.15321992476291e-32</dd><dt>V3</dt><dd>1.00872064196149e-32</dd><dt>V4</dt><dd>8.51299729382373e-36</dd><dt>V5</dt><dd>5.37460121466229e-34</dd><dt>V6</dt><dd>2.32280697120394e-32</dd><dt>V7</dt><dd>4.45606020445693e-38</dd><dt>V8</dt><dd>2.28174441201159e-33</dd><dt>V9</dt><dd>3.97313201204605e-33</dd><dt>V10</dt><dd>4.51038380140928e-40</dd><dt>V11</dt><dd>0.936309647508684</dd><dt>V12</dt><dd>0.671032490705098</dd><dt>V13</dt><dd>0.936309647508684</dd><dt>V14</dt><dd>0.560257438405546</dd><dt>V15</dt><dd>0.936309647508684</dd><dt>V16</dt><dd>0.671032490705098</dd><dt>V17</dt><dd>0.7586499851662</dd><dt>V18</dt><dd>0.936309647508684</dd><dt>V19</dt><dd>0.7586499851662</dd><dt>V20</dt><dd>0.319173394156544</dd><dt>V21</dt><dd>0.914061782618369</dd><dt>V22</dt><dd>0.7586499851662</dd><dt>V23</dt><dd>0.836644696418666</dd><dt>V24</dt><dd>0.7586499851662</dd><dt>V25</dt><dd>0.914061782618369</dd><dt>V26</dt><dd>0.427353562831403</dd><dt>V27</dt><dd>0.992726228670374</dd><dt>V28</dt><dd>0.6691651435791</dd><dt>V29</dt><dd>0.914061782618369</dd><dt>V30</dt><dd>0.552780644771181</dd><dt>V31</dt><dd>0.7586499851662</dd><dt>V32</dt><dd>0.332238602728674</dd><dt>V33</dt><dd>0.7586499851662</dd><dt>V34</dt><dd>0.937754350579718</dd><dt>V35</dt><dd>0.552780644771181</dd><dt>V36</dt><dd>0.914061782618369</dd><dt>V37</dt><dd>0.671032490705098</dd><dt>V38</dt><dd>0.552780644771181</dd><dt>V39</dt><dd>0.936309647508684</dd><dt>V40</dt><dd>0.304802853478464</dd><dt>V41</dt><dd>0.914061782618369</dd><dt>V42</dt><dd>0.914061782618369</dd><dt>V43</dt><dd>0.914061782618369</dd><dt>V44</dt><dd>0.112503050408574</dd><dt>V45</dt><dd>0.552780644771181</dd><dt>V46</dt><dd>0.914061782618369</dd><dt>V47</dt><dd>0.671032490705098</dd><dt>V48</dt><dd>0.427353562831403</dd><dt>V49</dt><dd>0.936309647508684</dd><dt>V50</dt><dd>0.914061782618369</dd></dl>\n"
      ],
      "text/latex": [
       "\\begin{description*}\n",
       "\\item[V1] 5.34104839756445e-33\n",
       "\\item[V2] 5.15321992476291e-32\n",
       "\\item[V3] 1.00872064196149e-32\n",
       "\\item[V4] 8.51299729382373e-36\n",
       "\\item[V5] 5.37460121466229e-34\n",
       "\\item[V6] 2.32280697120394e-32\n",
       "\\item[V7] 4.45606020445693e-38\n",
       "\\item[V8] 2.28174441201159e-33\n",
       "\\item[V9] 3.97313201204605e-33\n",
       "\\item[V10] 4.51038380140928e-40\n",
       "\\item[V11] 0.936309647508684\n",
       "\\item[V12] 0.671032490705098\n",
       "\\item[V13] 0.936309647508684\n",
       "\\item[V14] 0.560257438405546\n",
       "\\item[V15] 0.936309647508684\n",
       "\\item[V16] 0.671032490705098\n",
       "\\item[V17] 0.7586499851662\n",
       "\\item[V18] 0.936309647508684\n",
       "\\item[V19] 0.7586499851662\n",
       "\\item[V20] 0.319173394156544\n",
       "\\item[V21] 0.914061782618369\n",
       "\\item[V22] 0.7586499851662\n",
       "\\item[V23] 0.836644696418666\n",
       "\\item[V24] 0.7586499851662\n",
       "\\item[V25] 0.914061782618369\n",
       "\\item[V26] 0.427353562831403\n",
       "\\item[V27] 0.992726228670374\n",
       "\\item[V28] 0.6691651435791\n",
       "\\item[V29] 0.914061782618369\n",
       "\\item[V30] 0.552780644771181\n",
       "\\item[V31] 0.7586499851662\n",
       "\\item[V32] 0.332238602728674\n",
       "\\item[V33] 0.7586499851662\n",
       "\\item[V34] 0.937754350579718\n",
       "\\item[V35] 0.552780644771181\n",
       "\\item[V36] 0.914061782618369\n",
       "\\item[V37] 0.671032490705098\n",
       "\\item[V38] 0.552780644771181\n",
       "\\item[V39] 0.936309647508684\n",
       "\\item[V40] 0.304802853478464\n",
       "\\item[V41] 0.914061782618369\n",
       "\\item[V42] 0.914061782618369\n",
       "\\item[V43] 0.914061782618369\n",
       "\\item[V44] 0.112503050408574\n",
       "\\item[V45] 0.552780644771181\n",
       "\\item[V46] 0.914061782618369\n",
       "\\item[V47] 0.671032490705098\n",
       "\\item[V48] 0.427353562831403\n",
       "\\item[V49] 0.936309647508684\n",
       "\\item[V50] 0.914061782618369\n",
       "\\end{description*}\n"
      ],
      "text/markdown": [
       "V1\n",
       ":   5.34104839756445e-33V2\n",
       ":   5.15321992476291e-32V3\n",
       ":   1.00872064196149e-32V4\n",
       ":   8.51299729382373e-36V5\n",
       ":   5.37460121466229e-34V6\n",
       ":   2.32280697120394e-32V7\n",
       ":   4.45606020445693e-38V8\n",
       ":   2.28174441201159e-33V9\n",
       ":   3.97313201204605e-33V10\n",
       ":   4.51038380140928e-40V11\n",
       ":   0.936309647508684V12\n",
       ":   0.671032490705098V13\n",
       ":   0.936309647508684V14\n",
       ":   0.560257438405546V15\n",
       ":   0.936309647508684V16\n",
       ":   0.671032490705098V17\n",
       ":   0.7586499851662V18\n",
       ":   0.936309647508684V19\n",
       ":   0.7586499851662V20\n",
       ":   0.319173394156544V21\n",
       ":   0.914061782618369V22\n",
       ":   0.7586499851662V23\n",
       ":   0.836644696418666V24\n",
       ":   0.7586499851662V25\n",
       ":   0.914061782618369V26\n",
       ":   0.427353562831403V27\n",
       ":   0.992726228670374V28\n",
       ":   0.6691651435791V29\n",
       ":   0.914061782618369V30\n",
       ":   0.552780644771181V31\n",
       ":   0.7586499851662V32\n",
       ":   0.332238602728674V33\n",
       ":   0.7586499851662V34\n",
       ":   0.937754350579718V35\n",
       ":   0.552780644771181V36\n",
       ":   0.914061782618369V37\n",
       ":   0.671032490705098V38\n",
       ":   0.552780644771181V39\n",
       ":   0.936309647508684V40\n",
       ":   0.304802853478464V41\n",
       ":   0.914061782618369V42\n",
       ":   0.914061782618369V43\n",
       ":   0.914061782618369V44\n",
       ":   0.112503050408574V45\n",
       ":   0.552780644771181V46\n",
       ":   0.914061782618369V47\n",
       ":   0.671032490705098V48\n",
       ":   0.427353562831403V49\n",
       ":   0.936309647508684V50\n",
       ":   0.914061782618369\n",
       "\n"
      ],
      "text/plain": [
       "          V1           V2           V3           V4           V5           V6 \n",
       "5.341048e-33 5.153220e-32 1.008721e-32 8.512997e-36 5.374601e-34 2.322807e-32 \n",
       "          V7           V8           V9          V10          V11          V12 \n",
       "4.456060e-38 2.281744e-33 3.973132e-33 4.510384e-40 9.363096e-01 6.710325e-01 \n",
       "         V13          V14          V15          V16          V17          V18 \n",
       "9.363096e-01 5.602574e-01 9.363096e-01 6.710325e-01 7.586500e-01 9.363096e-01 \n",
       "         V19          V20          V21          V22          V23          V24 \n",
       "7.586500e-01 3.191734e-01 9.140618e-01 7.586500e-01 8.366447e-01 7.586500e-01 \n",
       "         V25          V26          V27          V28          V29          V30 \n",
       "9.140618e-01 4.273536e-01 9.927262e-01 6.691651e-01 9.140618e-01 5.527806e-01 \n",
       "         V31          V32          V33          V34          V35          V36 \n",
       "7.586500e-01 3.322386e-01 7.586500e-01 9.377544e-01 5.527806e-01 9.140618e-01 \n",
       "         V37          V38          V39          V40          V41          V42 \n",
       "6.710325e-01 5.527806e-01 9.363096e-01 3.048029e-01 9.140618e-01 9.140618e-01 \n",
       "         V43          V44          V45          V46          V47          V48 \n",
       "9.140618e-01 1.125031e-01 5.527806e-01 9.140618e-01 6.710325e-01 4.273536e-01 \n",
       "         V49          V50 \n",
       "9.363096e-01 9.140618e-01 "
      ]
     },
     "metadata": {},
     "output_type": "display_data"
    }
   ],
   "source": [
    "p_values_hochberg <- p.adjust(p_values, method = \"BH\", n = length(p_values))\n",
    "p_values_hochberg"
   ]
  },
  {
   "cell_type": "code",
   "execution_count": 25,
   "id": "f0e7f8c3",
   "metadata": {
    "vscode": {
     "languageId": "r"
    }
   },
   "outputs": [
    {
     "data": {
      "text/html": [
       "<style>\n",
       ".dl-inline {width: auto; margin:0; padding: 0}\n",
       ".dl-inline>dt, .dl-inline>dd {float: none; width: auto; display: inline-block}\n",
       ".dl-inline>dt::after {content: \":\\0020\"; padding-right: .5ex}\n",
       ".dl-inline>dt:not(:first-of-type) {padding-left: .5ex}\n",
       "</style><dl class=dl-inline><dt>V1</dt><dd>1</dd><dt>V2</dt><dd>2</dd><dt>V3</dt><dd>3</dd><dt>V4</dt><dd>4</dd><dt>V5</dt><dd>5</dd><dt>V6</dt><dd>6</dd><dt>V7</dt><dd>7</dd><dt>V8</dt><dd>8</dd><dt>V9</dt><dd>9</dd><dt>V10</dt><dd>10</dd></dl>\n"
      ],
      "text/latex": [
       "\\begin{description*}\n",
       "\\item[V1] 1\n",
       "\\item[V2] 2\n",
       "\\item[V3] 3\n",
       "\\item[V4] 4\n",
       "\\item[V5] 5\n",
       "\\item[V6] 6\n",
       "\\item[V7] 7\n",
       "\\item[V8] 8\n",
       "\\item[V9] 9\n",
       "\\item[V10] 10\n",
       "\\end{description*}\n"
      ],
      "text/markdown": [
       "V1\n",
       ":   1V2\n",
       ":   2V3\n",
       ":   3V4\n",
       ":   4V5\n",
       ":   5V6\n",
       ":   6V7\n",
       ":   7V8\n",
       ":   8V9\n",
       ":   9V10\n",
       ":   10\n",
       "\n"
      ],
      "text/plain": [
       " V1  V2  V3  V4  V5  V6  V7  V8  V9 V10 \n",
       "  1   2   3   4   5   6   7   8   9  10 "
      ]
     },
     "metadata": {},
     "output_type": "display_data"
    }
   ],
   "source": [
    "significant_vars_hochberg <- which(p_values_hochberg < 0.1)\n",
    "significant_vars_hochberg"
   ]
  },
  {
   "cell_type": "code",
   "execution_count": null,
   "id": "8be77830",
   "metadata": {
    "vscode": {
     "languageId": "r"
    }
   },
   "outputs": [],
   "source": [
    "# Go to TA office hours Friday 3-5\n",
    "fwer_hochberg <- 1 - (1 - (0.1 / 40)) ** 40"
   ]
  },
  {
   "cell_type": "code",
   "execution_count": 26,
   "id": "2203253b",
   "metadata": {
    "vscode": {
     "languageId": "r"
    }
   },
   "outputs": [
    {
     "data": {
      "text/html": [
       "0"
      ],
      "text/latex": [
       "0"
      ],
      "text/markdown": [
       "0"
      ],
      "text/plain": [
       "[1] 0"
      ]
     },
     "metadata": {},
     "output_type": "display_data"
    }
   ],
   "source": [
    "type_one_hochberg <- sum(significant_vars_hochberg > 10)\n",
    "type_one_hochberg"
   ]
  },
  {
   "cell_type": "code",
   "execution_count": 29,
   "id": "d0fc638d",
   "metadata": {
    "vscode": {
     "languageId": "r"
    }
   },
   "outputs": [
    {
     "data": {
      "text/html": [
       "0"
      ],
      "text/latex": [
       "0"
      ],
      "text/markdown": [
       "0"
      ],
      "text/plain": [
       "[1] 0"
      ]
     },
     "metadata": {},
     "output_type": "display_data"
    }
   ],
   "source": [
    "R <- length(significant_vars_hochberg)\n",
    "V <- sum(significant_vars_hochberg > 10)\n",
    "fdr_bh <- V / R\n",
    "fdr_bh"
   ]
  },
  {
   "cell_type": "code",
   "execution_count": null,
   "id": "e9256ad8",
   "metadata": {
    "vscode": {
     "languageId": "r"
    }
   },
   "outputs": [],
   "source": []
  }
 ],
 "metadata": {
  "kernelspec": {
   "display_name": "R",
   "language": "R",
   "name": "ir"
  },
  "language_info": {
   "codemirror_mode": "r",
   "file_extension": ".r",
   "mimetype": "text/x-r-source",
   "name": "R",
   "pygments_lexer": "r",
   "version": "4.5.0"
  }
 },
 "nbformat": 4,
 "nbformat_minor": 5
}
