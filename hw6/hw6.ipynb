{
 "cells": [
  {
   "cell_type": "markdown",
   "id": "f8d6fc79",
   "metadata": {},
   "source": [
    "# HW6 Math 189"
   ]
  },
  {
   "cell_type": "markdown",
   "id": "58af208e",
   "metadata": {},
   "source": [
    "### By Leah Seseri, Imangali Amangeldi"
   ]
  },
  {
   "cell_type": "markdown",
   "id": "c8cfee0e",
   "metadata": {},
   "source": [
    "## Question 1"
   ]
  },
  {
   "cell_type": "markdown",
   "id": "0a7072f1",
   "metadata": {},
   "source": [
    "### Question 1, Part A:"
   ]
  },
  {
   "cell_type": "markdown",
   "id": "a03fe0f6",
   "metadata": {},
   "source": [
    "For this question, we have started by using desmos to prove our initial guesses that the curve sctches out a circle, centered at -1 and 2, for x_1 and x_2 respectfully. Then by utilizing disscusion slides we have foudn the code to implement it in R"
   ]
  },
  {
   "cell_type": "code",
   "execution_count": 84,
   "id": "bbc98c0d",
   "metadata": {
    "vscode": {
     "languageId": "r"
    }
   },
   "outputs": [
    {
     "data": {
      "image/png": "[encoded data removed]",
      "text/plain": [
       "Plot with title \"Decision Boundary: (1 + X1)^2 + (2 - X2)^2 = 4\""
      ]
     },
     "metadata": {
      "image/png": {
       "height": 420,
       "width": 420
      }
     },
     "output_type": "display_data"
    }
   ],
   "source": [
    "# Define the center and radius of the circle\n",
    "center_x <- -1\n",
    "center_y <- 2\n",
    "radius <- 2\n",
    "\n",
    "# Generate points around the circle\n",
    "theta <- seq(0, 2 * pi, length.out = 200)\n",
    "x_circle <- center_x + radius * cos(theta)\n",
    "y_circle <- center_y + radius * sin(theta)\n",
    "\n",
    "# Plot the circle\n",
    "plot(x_circle, y_circle, type = \"l\", col = \"blue\", lwd = 2,\n",
    "     xlab = \"X1\", ylab = \"X2\", asp = 1,\n",
    "     main = \"Decision Boundary: (1 + X1)^2 + (2 - X2)^2 = 4\")"
   ]
  },
  {
   "cell_type": "markdown",
   "id": "6a43c5a1",
   "metadata": {},
   "source": [
    "### Question 1, Part B:"
   ]
  },
  {
   "cell_type": "code",
   "execution_count": 85,
   "id": "b0cd995f",
   "metadata": {
    "vscode": {
     "languageId": "r"
    }
   },
   "outputs": [
    {
     "data": {
      "text/html": [
       "<table class=\"dataframe\">\n",
       "<caption>A data.frame: 4 × 3</caption>\n",
       "<thead>\n",
       "\t<tr><th scope=col>X1</th><th scope=col>X2</th><th scope=col>class</th></tr>\n",
       "\t<tr><th scope=col>&lt;dbl&gt;</th><th scope=col>&lt;dbl&gt;</th><th scope=col>&lt;chr&gt;</th></tr>\n",
       "</thead>\n",
       "<tbody>\n",
       "\t<tr><td> 0</td><td>0</td><td>blue</td></tr>\n",
       "\t<tr><td>-1</td><td>1</td><td>red </td></tr>\n",
       "\t<tr><td> 2</td><td>2</td><td>blue</td></tr>\n",
       "\t<tr><td> 3</td><td>8</td><td>blue</td></tr>\n",
       "</tbody>\n",
       "</table>\n"
      ],
      "text/latex": [
       "A data.frame: 4 × 3\n",
       "\\begin{tabular}{lll}\n",
       " X1 & X2 & class\\\\\n",
       " <dbl> & <dbl> & <chr>\\\\\n",
       "\\hline\n",
       "\t  0 & 0 & blue\\\\\n",
       "\t -1 & 1 & red \\\\\n",
       "\t  2 & 2 & blue\\\\\n",
       "\t  3 & 8 & blue\\\\\n",
       "\\end{tabular}\n"
      ],
      "text/markdown": [
       "\n",
       "A data.frame: 4 × 3\n",
       "\n",
       "| X1 &lt;dbl&gt; | X2 &lt;dbl&gt; | class &lt;chr&gt; |\n",
       "|---|---|---|\n",
       "|  0 | 0 | blue |\n",
       "| -1 | 1 | red  |\n",
       "|  2 | 2 | blue |\n",
       "|  3 | 8 | blue |\n",
       "\n"
      ],
      "text/plain": [
       "  X1 X2 class\n",
       "1  0 0  blue \n",
       "2 -1 1  red  \n",
       "3  2 2  blue \n",
       "4  3 8  blue "
      ]
     },
     "metadata": {},
     "output_type": "display_data"
    }
   ],
   "source": [
    "# Define the points\n",
    "points_to_check <- data.frame(\n",
    "  X1 = c(0, -1, 2, 3),\n",
    "  X2 = c(0, 1, 2, 8)\n",
    ")\n",
    "\n",
    "# Apply the correct decision function\n",
    "decision_values <- (1 + points_to_check$X1)^2 + (2 - points_to_check$X2)^2\n",
    "classes <- ifelse(decision_values <= 4, \"red\", \"blue\")\n",
    "\n",
    "# Combine into data frame\n",
    "points_to_check$class <- classes\n",
    "points_to_check"
   ]
  },
  {
   "cell_type": "markdown",
   "id": "5ac8be67",
   "metadata": {},
   "source": [
    "### Question 1, Part C:"
   ]
  },
  {
   "cell_type": "markdown",
   "id": "a5afb182",
   "metadata": {},
   "source": [
    "From parts a) and b), we have the following formula (1+x_1)^2 + (2-x_2)^2 = 4\n",
    "\n",
    "To test whether this fucntion is linear in X_2^2, X_1^2, X_1, X_2, let's expand the formula\n",
    "\n",
    "1 + 2x_1 + x_1^2 + 4 - 4x_2 + x_2^2 = 4\n",
    "\n",
    "Simplify,\n",
    "\n",
    "x_1^2 + x_2^2 + 2x_1 - 4x_2 + 1 = 0\n",
    "\n",
    "By definition an equation (or model) is linear when it is a linear combination of the variables, so is the case here. So even though the decision boundary is not linear in x_1 and x_2 directly, it is linear in the transformed feature space [x_1, x_2, x_2^2, x_1^2]"
   ]
  },
  {
   "cell_type": "markdown",
   "id": "d1adc2ec",
   "metadata": {},
   "source": [
    "## Question 2"
   ]
  },
  {
   "cell_type": "markdown",
   "id": "f486f505",
   "metadata": {},
   "source": [
    "### Question 2, Part A:"
   ]
  },
  {
   "cell_type": "code",
   "execution_count": 86,
   "id": "36811f28",
   "metadata": {
    "vscode": {
     "languageId": "r"
    }
   },
   "outputs": [
    {
     "data": {
      "image/png": "[encoded data removed]",
      "text/plain": [
       "Plot with title \"Scatter Plot of training points\""
      ]
     },
     "metadata": {
      "image/png": {
       "height": 420,
       "width": 420
      }
     },
     "output_type": "display_data"
    }
   ],
   "source": [
    "train <- read.csv(\"SVM_train_updated.csv\", row.names = 1)\n",
    "\n",
    "plot(train$x.1, train$x.2, col=as.factor(train$y), pch=19,\n",
    "     xlab=\"X1\", ylab=\"X2\", main=\"Scatter Plot of training points\")"
   ]
  },
  {
   "cell_type": "markdown",
   "id": "359b18a7",
   "metadata": {},
   "source": [
    "Based on the scatter plot of covariates x_1 and x_2, the two classes (as indicated by color) are not linearly separable. There is significant overlap in the region where the two classes interact.\n",
    "\n",
    "A linear boundary (such as one formed by a straight line or hyperplane) would not perfectly separate the two classes.\n",
    "\n",
    "The structure and spread of the points suggest that a nonlinear decision boundary (such as a polynomial or RBF kernel) would be more suitable.\n",
    "\n",
    "Additionally, even with a nonlinear boundary, some misclassifications may still occur, indicating the need for a soft-margin classifier with a level of slack to tolerate some overlap and outliers."
   ]
  },
  {
   "cell_type": "markdown",
   "id": "b60e169f",
   "metadata": {},
   "source": [
    "### Question 2, Part B:"
   ]
  },
  {
   "cell_type": "code",
   "execution_count": 87,
   "id": "b4910c65",
   "metadata": {
    "vscode": {
     "languageId": "r"
    }
   },
   "outputs": [
    {
     "name": "stderr",
     "output_type": "stream",
     "text": [
      "Warning message:\n",
      "\"package 'e1071' is in use and will not be installed\"\n"
     ]
    }
   ],
   "source": [
    "install.packages(\"e1071\")\n",
    "library(e1071)"
   ]
  },
  {
   "cell_type": "code",
   "execution_count": 88,
   "id": "35273bba",
   "metadata": {
    "vscode": {
     "languageId": "r"
    }
   },
   "outputs": [
    {
     "name": "stdout",
     "output_type": "stream",
     "text": [
      "\n",
      "Call:\n",
      "best.tune(METHOD = svm, train.x = y ~ ., data = train, ranges = list(cost = c(0.1, \n",
      "    1, 4, 10)), kernel = \"linear\")\n",
      "\n",
      "\n",
      "Parameters:\n",
      "   SVM-Type:  C-classification \n",
      " SVM-Kernel:  linear \n",
      "       cost:  0.1 \n",
      "\n",
      "Number of Support Vectors:  103\n",
      "\n"
     ]
    }
   ],
   "source": [
    "# Properly load train and test CSVs\n",
    "train <- read.csv(\"SVM_train_updated.csv\", row.names = 1)\n",
    "test <- read.csv(\"SVM_test_updated.csv\", row.names = 1)\n",
    "\n",
    "# Ensure target is a factor\n",
    "train$y <- as.factor(train$y)\n",
    "test$y <- as.factor(test$y)\n",
    "\n",
    "# Train linear SVM with cross-validation\n",
    "library(e1071)\n",
    "set.seed(123)\n",
    "tune_result <- tune(svm, y ~ ., data = train, kernel = \"linear\",\n",
    "                    ranges = list(cost = c(0.1, 1, 4, 10)))\n",
    "\n",
    "# Best model\n",
    "best_model_linear <- tune_result$best.model\n",
    "print(best_model_linear)\n",
    "\n",
    "# Predict (exclude 'y' column when passing newdata)\n",
    "train_features <- train[, c(\"x.1\", \"x.2\")]\n",
    "test_features <- test[, c(\"x.1\", \"x.2\")]\n",
    "\n",
    "train$pred <- predict(best_model_linear, newdata = train_features)\n",
    "test$pred <- predict(best_model_linear, newdata = test_features)\n",
    "\n",
    "# Convert predictions to factors\n",
    "train$pred <- as.factor(train$pred)\n",
    "test$pred <- as.factor(test$pred)\n"
   ]
  },
  {
   "cell_type": "code",
   "execution_count": 89,
   "id": "80bdcd7d",
   "metadata": {
    "vscode": {
     "languageId": "r"
    }
   },
   "outputs": [
    {
     "data": {
      "image/png": "[encoded data removed]",
      "text/plain": [
       "Plot with title \"Train Set Predictions\""
      ]
     },
     "metadata": {
      "image/png": {
       "height": 420,
       "width": 420
      }
     },
     "output_type": "display_data"
    },
    {
     "data": {
      "image/png": "[encoded data removed]",
      "text/plain": [
       "Plot with title \"Test Set Predictions\""
      ]
     },
     "metadata": {
      "image/png": {
       "height": 420,
       "width": 420
      }
     },
     "output_type": "display_data"
    }
   ],
   "source": [
    "# Colors by prediction\n",
    "colors <- rainbow(length(levels(train$pred)))\n",
    "\n",
    "# Training plot\n",
    "plot(train$x.1, train$x.2, col=colors[train$pred], pch=19,\n",
    "     main=\"Train Set Predictions\", xlab=\"X1\", ylab=\"X2\")\n",
    "legend(\"topright\", legend=levels(train$pred), col=colors, pch=19)\n",
    "\n",
    "# Test plot\n",
    "plot(test$x.1, test$x.2, col=colors[test$pred], pch=19,\n",
    "     main=\"Test Set Predictions\", xlab=\"X1\", ylab=\"X2\")\n",
    "legend(\"topright\", legend=levels(test$pred), col=colors, pch=19)"
   ]
  },
  {
   "cell_type": "markdown",
   "id": "572e6d42",
   "metadata": {},
   "source": [
    "### Question 2, Part C:"
   ]
  },
  {
   "cell_type": "code",
   "execution_count": 90,
   "id": "42bd9c27",
   "metadata": {
    "vscode": {
     "languageId": "r"
    }
   },
   "outputs": [
    {
     "data": {
      "text/plain": [
       "\n",
       "Call:\n",
       "best.tune(METHOD = svm, train.x = y ~ ., data = train, ranges = list(cost = c(0.1, \n",
       "    1, 10, 100), gamma = c(0.01, 0.1, 0.5, 1)), kernel = \"radial\")\n",
       "\n",
       "\n",
       "Parameters:\n",
       "   SVM-Type:  C-classification \n",
       " SVM-Kernel:  radial \n",
       "       cost:  10 \n",
       "\n",
       "Number of Support Vectors:  60\n",
       "\n",
       " ( 31 29 )\n",
       "\n",
       "\n",
       "Number of Classes:  2 \n",
       "\n",
       "Levels: \n",
       " -1 1\n",
       "\n",
       "\n"
      ]
     },
     "metadata": {},
     "output_type": "display_data"
    }
   ],
   "source": [
    "# Step 1: Load the data\n",
    "train <- read.csv(\"SVM_train_updated.csv\", row.names = 1)\n",
    "test <- read.csv(\"SVM_test_updated.csv\", row.names = 1)\n",
    "train$y <- as.factor(train$y)\n",
    "test$y <- as.factor(test$y)\n",
    "\n",
    "# Step 2: Tune cost and gamma using cross-validation\n",
    "set.seed(123)\n",
    "tune_result_rbf <- tune(\n",
    "  svm, y ~ ., data = train, kernel = \"radial\",\n",
    "  ranges = list(\n",
    "    cost = c(0.1, 1, 10, 100),\n",
    "    gamma = c(0.01, 0.1, 0.5, 1)\n",
    "  )\n",
    ")\n",
    "\n",
    "# Step 3: Get the best model\n",
    "best_model_rbf <- tune_result_rbf$best.model\n",
    "summary(best_model_rbf)"
   ]
  },
  {
   "cell_type": "code",
   "execution_count": 91,
   "id": "44155456",
   "metadata": {
    "vscode": {
     "languageId": "r"
    }
   },
   "outputs": [
    {
     "name": "stderr",
     "output_type": "stream",
     "text": [
      "Warning message:\n",
      "\"package 'RColorBrewer' is in use and will not be installed\"\n"
     ]
    }
   ],
   "source": [
    "install.packages(\"RColorBrewer\")"
   ]
  },
  {
   "cell_type": "code",
   "execution_count": 92,
   "id": "01e0864f",
   "metadata": {
    "vscode": {
     "languageId": "r"
    }
   },
   "outputs": [],
   "source": [
    "# Prepare feature-only datasets\n",
    "train_features <- train[, c(\"x.1\", \"x.2\")]\n",
    "test_features <- test[, c(\"x.1\", \"x.2\")]\n",
    "\n",
    "# Predict\n",
    "train$pred <- predict(best_model_rbf, newdata = train_features)\n",
    "test$pred <- predict(best_model_rbf, newdata = test_features)\n",
    "\n",
    "# Convert predictions to factor for plotting\n",
    "train$pred <- as.factor(train$pred)\n",
    "test$pred <- as.factor(test$pred)"
   ]
  },
  {
   "cell_type": "code",
   "execution_count": 93,
   "id": "de19d6df",
   "metadata": {
    "vscode": {
     "languageId": "r"
    }
   },
   "outputs": [
    {
     "data": {
      "image/png": "[encoded data removed]",
      "text/plain": [
       "Plot with title \"RBF SVM - Training Set\""
      ]
     },
     "metadata": {
      "image/png": {
       "height": 420,
       "width": 420
      }
     },
     "output_type": "display_data"
    },
    {
     "data": {
      "image/png": "[encoded data removed]",
      "text/plain": [
       "Plot with title \"RBF SVM - Test Set\""
      ]
     },
     "metadata": {
      "image/png": {
       "height": 420,
       "width": 420
      }
     },
     "output_type": "display_data"
    }
   ],
   "source": [
    "library(RColorBrewer)\n",
    "colors <- brewer.pal(3, \"Set1\")\n",
    "\n",
    "# Training set predictions\n",
    "plot(train$x.1, train$x.2, col=colors[train$pred], pch=19,\n",
    "     main=\"RBF SVM - Training Set\", xlab=\"X1\", ylab=\"X2\")\n",
    "legend(\"topright\", legend=levels(train$pred), col=colors, pch=19)\n",
    "\n",
    "# Test set predictions\n",
    "plot(test$x.1, test$x.2, col=colors[test$pred], pch=19,\n",
    "     main=\"RBF SVM - Test Set\", xlab=\"X1\", ylab=\"X2\")\n",
    "legend(\"topright\", legend=levels(test$pred), col=colors, pch=19)\n"
   ]
  },
  {
   "cell_type": "markdown",
   "id": "da4b77a5",
   "metadata": {},
   "source": [
    "### Question 2, Part D:"
   ]
  },
  {
   "cell_type": "code",
   "execution_count": 94,
   "id": "53081c5d",
   "metadata": {
    "vscode": {
     "languageId": "r"
    }
   },
   "outputs": [
    {
     "name": "stderr",
     "output_type": "stream",
     "text": [
      "Warning message:\n",
      "\"package 'ROCR' is in use and will not be installed\"\n"
     ]
    },
    {
     "data": {
      "image/png": "[encoded data removed]",
      "text/plain": [
       "Plot with title \"Training Data ROC\""
      ]
     },
     "metadata": {
      "image/png": {
       "height": 420,
       "width": 420
      }
     },
     "output_type": "display_data"
    },
    {
     "data": {
      "image/png": "[encoded data removed]",
      "text/plain": [
       "Plot with title \"Test Data ROC\""
      ]
     },
     "metadata": {
      "image/png": {
       "height": 420,
       "width": 420
      }
     },
     "output_type": "display_data"
    }
   ],
   "source": [
    "# Load necessary packages\n",
    "install.packages(\"ROCR\")  # if not already installed\n",
    "library(ROCR)\n",
    "\n",
    "# Define helper function for ROC plotting\n",
    "rocplot <- function(predictions, truth, ...) {\n",
    "  pred <- prediction(predictions, truth)\n",
    "  perf <- performance(pred, \"tpr\", \"fpr\")\n",
    "  plot(perf, ...)\n",
    "}\n",
    "\n",
    "# Get decision values from both linear and RBF SVMs\n",
    "# Linear SVM\n",
    "fitted.linear.train <- attr(predict(best_model_linear, train_features, decision.values = TRUE), \"decision.values\")\n",
    "fitted.linear.test  <- attr(predict(best_model_linear, test_features, decision.values = TRUE), \"decision.values\")\n",
    "\n",
    "# RBF (Gaussian) SVM\n",
    "fitted.rbf.train <- attr(predict(best_model_rbf, train_features, decision.values = TRUE), \"decision.values\")\n",
    "fitted.rbf.test  <- attr(predict(best_model_rbf, test_features, decision.values = TRUE), \"decision.values\")\n",
    "\n",
    "# Plot ROC for Training Data\n",
    "rocplot(-fitted.linear.train, train$y, main = \"Training Data ROC\", col = \"red\")\n",
    "rocplot(-fitted.rbf.train, train$y, add = TRUE, col = \"blue\")\n",
    "legend(\"bottomright\", legend = c(\"Linear SVM\", \"RBF SVM\"), col = c(\"red\", \"blue\"), lty = 1, lwd = 2)\n",
    "\n",
    "# Plot ROC for Test Data\n",
    "rocplot(-fitted.linear.test, test$y, main = \"Test Data ROC\", col = \"red\")\n",
    "rocplot(-fitted.rbf.test, test$y, add = TRUE, col = \"blue\")\n",
    "legend(\"bottomright\", legend = c(\"Linear SVM\", \"RBF SVM\"), col = c(\"red\", \"blue\"), lty = 1, lwd = 2)\n"
   ]
  },
  {
   "cell_type": "markdown",
   "id": "d6cdd6f5",
   "metadata": {},
   "source": [
    "\n",
    "The RBF SVM performs much better on both the training and test sets, with a steep ROC curve that shows strong class separation.\n",
    "\n",
    "The linear SVM struggles more, with a flatter curve, showing it's less effective at separating the classes.\n",
    "\n",
    "On the test set, the RBF model still performs better, suggesting it generalizes well.\n",
    "\n",
    "The RBF SVM is clearly the better model for this data. It handles the nonlinearity that the linear SVM cannot, leading to much better classification results.\n"
   ]
  }
 ],
 "metadata": {
  "kernelspec": {
   "display_name": "R",
   "language": "R",
   "name": "ir"
  },
  "language_info": {
   "codemirror_mode": "r",
   "file_extension": ".r",
   "mimetype": "text/x-r-source",
   "name": "R",
   "pygments_lexer": "r",
   "version": "4.5.0"
  }
 },
 "nbformat": 4,
 "nbformat_minor": 5
}
