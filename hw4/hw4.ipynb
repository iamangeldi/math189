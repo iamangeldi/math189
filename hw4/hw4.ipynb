{
 "cells": [
  {
   "cell_type": "markdown",
   "id": "cf1787e5",
   "metadata": {},
   "source": [
    "# Math189 Homework4"
   ]
  },
  {
   "cell_type": "markdown",
   "id": "a97664b6",
   "metadata": {},
   "source": [
    "### By Leah Seseri, Imangali Amangeldi"
   ]
  },
  {
   "cell_type": "markdown",
   "id": "4e5987f0",
   "metadata": {},
   "source": [
    "## Problem 1"
   ]
  },
  {
   "cell_type": "code",
   "execution_count": 4,
   "id": "d004d69d",
   "metadata": {
    "vscode": {
     "languageId": "r"
    }
   },
   "outputs": [
    {
     "name": "stderr",
     "output_type": "stream",
     "text": [
      "Installing package into 'C:/Users/Admin/AppData/Local/R/win-library/4.5'\n",
      "(as 'lib' is unspecified)\n",
      "\n"
     ]
    },
    {
     "name": "stdout",
     "output_type": "stream",
     "text": [
      "package 'ISLR' successfully unpacked and MD5 sums checked\n",
      "\n",
      "The downloaded binary packages are in\n",
      "\tC:\\Users\\Admin\\AppData\\Local\\Temp\\Rtmpic947x\\downloaded_packages\n"
     ]
    },
    {
     "data": {
      "text/html": [
       "<table class=\"dataframe\">\n",
       "<caption>A data.frame: 6 × 10</caption>\n",
       "<thead>\n",
       "\t<tr><th></th><th scope=col>mpg01</th><th scope=col>mpg</th><th scope=col>cylinders</th><th scope=col>displacement</th><th scope=col>horsepower</th><th scope=col>weight</th><th scope=col>acceleration</th><th scope=col>year</th><th scope=col>origin</th><th scope=col>name</th></tr>\n",
       "\t<tr><th></th><th scope=col>&lt;dbl&gt;</th><th scope=col>&lt;dbl&gt;</th><th scope=col>&lt;dbl&gt;</th><th scope=col>&lt;dbl&gt;</th><th scope=col>&lt;dbl&gt;</th><th scope=col>&lt;dbl&gt;</th><th scope=col>&lt;dbl&gt;</th><th scope=col>&lt;dbl&gt;</th><th scope=col>&lt;dbl&gt;</th><th scope=col>&lt;fct&gt;</th></tr>\n",
       "</thead>\n",
       "<tbody>\n",
       "\t<tr><th scope=row>1</th><td>0</td><td>18</td><td>8</td><td>307</td><td>130</td><td>3504</td><td>12.0</td><td>70</td><td>1</td><td>chevrolet chevelle malibu</td></tr>\n",
       "\t<tr><th scope=row>2</th><td>0</td><td>15</td><td>8</td><td>350</td><td>165</td><td>3693</td><td>11.5</td><td>70</td><td>1</td><td>buick skylark 320        </td></tr>\n",
       "\t<tr><th scope=row>3</th><td>0</td><td>18</td><td>8</td><td>318</td><td>150</td><td>3436</td><td>11.0</td><td>70</td><td>1</td><td>plymouth satellite       </td></tr>\n",
       "\t<tr><th scope=row>4</th><td>0</td><td>16</td><td>8</td><td>304</td><td>150</td><td>3433</td><td>12.0</td><td>70</td><td>1</td><td>amc rebel sst            </td></tr>\n",
       "\t<tr><th scope=row>5</th><td>0</td><td>17</td><td>8</td><td>302</td><td>140</td><td>3449</td><td>10.5</td><td>70</td><td>1</td><td>ford torino              </td></tr>\n",
       "\t<tr><th scope=row>6</th><td>0</td><td>15</td><td>8</td><td>429</td><td>198</td><td>4341</td><td>10.0</td><td>70</td><td>1</td><td>ford galaxie 500         </td></tr>\n",
       "</tbody>\n",
       "</table>\n"
      ],
      "text/latex": [
       "A data.frame: 6 × 10\n",
       "\\begin{tabular}{r|llllllllll}\n",
       "  & mpg01 & mpg & cylinders & displacement & horsepower & weight & acceleration & year & origin & name\\\\\n",
       "  & <dbl> & <dbl> & <dbl> & <dbl> & <dbl> & <dbl> & <dbl> & <dbl> & <dbl> & <fct>\\\\\n",
       "\\hline\n",
       "\t1 & 0 & 18 & 8 & 307 & 130 & 3504 & 12.0 & 70 & 1 & chevrolet chevelle malibu\\\\\n",
       "\t2 & 0 & 15 & 8 & 350 & 165 & 3693 & 11.5 & 70 & 1 & buick skylark 320        \\\\\n",
       "\t3 & 0 & 18 & 8 & 318 & 150 & 3436 & 11.0 & 70 & 1 & plymouth satellite       \\\\\n",
       "\t4 & 0 & 16 & 8 & 304 & 150 & 3433 & 12.0 & 70 & 1 & amc rebel sst            \\\\\n",
       "\t5 & 0 & 17 & 8 & 302 & 140 & 3449 & 10.5 & 70 & 1 & ford torino              \\\\\n",
       "\t6 & 0 & 15 & 8 & 429 & 198 & 4341 & 10.0 & 70 & 1 & ford galaxie 500         \\\\\n",
       "\\end{tabular}\n"
      ],
      "text/markdown": [
       "\n",
       "A data.frame: 6 × 10\n",
       "\n",
       "| <!--/--> | mpg01 &lt;dbl&gt; | mpg &lt;dbl&gt; | cylinders &lt;dbl&gt; | displacement &lt;dbl&gt; | horsepower &lt;dbl&gt; | weight &lt;dbl&gt; | acceleration &lt;dbl&gt; | year &lt;dbl&gt; | origin &lt;dbl&gt; | name &lt;fct&gt; |\n",
       "|---|---|---|---|---|---|---|---|---|---|---|\n",
       "| 1 | 0 | 18 | 8 | 307 | 130 | 3504 | 12.0 | 70 | 1 | chevrolet chevelle malibu |\n",
       "| 2 | 0 | 15 | 8 | 350 | 165 | 3693 | 11.5 | 70 | 1 | buick skylark 320         |\n",
       "| 3 | 0 | 18 | 8 | 318 | 150 | 3436 | 11.0 | 70 | 1 | plymouth satellite        |\n",
       "| 4 | 0 | 16 | 8 | 304 | 150 | 3433 | 12.0 | 70 | 1 | amc rebel sst             |\n",
       "| 5 | 0 | 17 | 8 | 302 | 140 | 3449 | 10.5 | 70 | 1 | ford torino               |\n",
       "| 6 | 0 | 15 | 8 | 429 | 198 | 4341 | 10.0 | 70 | 1 | ford galaxie 500          |\n",
       "\n"
      ],
      "text/plain": [
       "  mpg01 mpg cylinders displacement horsepower weight acceleration year origin\n",
       "1 0     18  8         307          130        3504   12.0         70   1     \n",
       "2 0     15  8         350          165        3693   11.5         70   1     \n",
       "3 0     18  8         318          150        3436   11.0         70   1     \n",
       "4 0     16  8         304          150        3433   12.0         70   1     \n",
       "5 0     17  8         302          140        3449   10.5         70   1     \n",
       "6 0     15  8         429          198        4341   10.0         70   1     \n",
       "  name                     \n",
       "1 chevrolet chevelle malibu\n",
       "2 buick skylark 320        \n",
       "3 plymouth satellite       \n",
       "4 amc rebel sst            \n",
       "5 ford torino              \n",
       "6 ford galaxie 500         "
      ]
     },
     "metadata": {},
     "output_type": "display_data"
    }
   ],
   "source": [
    "install.packages(\"ISLR\")\n",
    "\n",
    "library(ISLR)\n",
    "data(\"Auto\")\n",
    "\n",
    "mpg_median <- median(Auto$mpg)\n",
    "mpg01 <- ifelse(Auto$mpg > mpg_median, 1, 0)\n",
    "df <- data.frame(mpg01 = mpg01, Auto)\n",
    "head(df)"
   ]
  },
  {
   "cell_type": "markdown",
   "id": "9a22299e",
   "metadata": {},
   "source": [
    "## Problem 2"
   ]
  },
  {
   "cell_type": "code",
   "execution_count": 5,
   "id": "b29dbb0c",
   "metadata": {
    "vscode": {
     "languageId": "r"
    }
   },
   "outputs": [
    {
     "data": {
      "image/png": "[encoded data removed]",
      "text/plain": [
       "Plot with title \"cylinders vs. mpg01\""
      ]
     },
     "metadata": {
      "image/png": {
       "height": 420,
       "width": 420
      }
     },
     "output_type": "display_data"
    }
   ],
   "source": [
    "boxplot(cylinders ~ mpg01, data = df, main = \"cylinders vs. mpg01\", col = \"lightblue\")"
   ]
  },
  {
   "cell_type": "code",
   "execution_count": 6,
   "id": "e6573e57",
   "metadata": {
    "vscode": {
     "languageId": "r"
    }
   },
   "outputs": [
    {
     "data": {
      "image/png": "[encoded data removed]",
      "text/plain": [
       "Plot with title \"displacement vs. mpg01\""
      ]
     },
     "metadata": {
      "image/png": {
       "height": 420,
       "width": 420
      }
     },
     "output_type": "display_data"
    }
   ],
   "source": [
    "boxplot(displacement ~ mpg01, data = df, main = \"displacement vs. mpg01\", col = \"lightgreen\")"
   ]
  },
  {
   "cell_type": "code",
   "execution_count": 7,
   "id": "951a0749",
   "metadata": {
    "vscode": {
     "languageId": "r"
    }
   },
   "outputs": [
    {
     "data": {
      "image/png": "[encoded data removed]",
      "text/plain": [
       "Plot with title \"horsepower vs. mpg01\""
      ]
     },
     "metadata": {
      "image/png": {
       "height": 420,
       "width": 420
      }
     },
     "output_type": "display_data"
    }
   ],
   "source": [
    "boxplot(horsepower ~ mpg01, data = df, main = \"horsepower vs. mpg01\", col = \"lightcoral\")\n"
   ]
  },
  {
   "cell_type": "code",
   "execution_count": 8,
   "id": "33f970fc",
   "metadata": {
    "vscode": {
     "languageId": "r"
    }
   },
   "outputs": [
    {
     "data": {
      "image/png": "[encoded data removed]",
      "text/plain": [
       "Plot with title \"weight vs. mpg01\""
      ]
     },
     "metadata": {
      "image/png": {
       "height": 420,
       "width": 420
      }
     },
     "output_type": "display_data"
    }
   ],
   "source": [
    "boxplot(weight ~ mpg01, data = df, main = \"weight vs. mpg01\", col = \"lightyellow\")"
   ]
  },
  {
   "cell_type": "code",
   "execution_count": 9,
   "id": "ed8c193b",
   "metadata": {
    "vscode": {
     "languageId": "r"
    }
   },
   "outputs": [
    {
     "data": {
      "image/png": "[encoded data removed]",
      "text/plain": [
       "Plot with title \"acceleration vs. mpg01\""
      ]
     },
     "metadata": {
      "image/png": {
       "height": 420,
       "width": 420
      }
     },
     "output_type": "display_data"
    }
   ],
   "source": [
    "boxplot(acceleration ~ mpg01, data = df, main = \"acceleration vs. mpg01\", col = \"lightpink\")"
   ]
  },
  {
   "cell_type": "code",
   "execution_count": 10,
   "id": "74675e20",
   "metadata": {
    "vscode": {
     "languageId": "r"
    }
   },
   "outputs": [
    {
     "data": {
      "image/png": "[encoded data removed]",
      "text/plain": [
       "Plot with title \"year vs. mpg01\""
      ]
     },
     "metadata": {
      "image/png": {
       "height": 420,
       "width": 420
      }
     },
     "output_type": "display_data"
    }
   ],
   "source": [
    "boxplot(year ~ mpg01, data = df, main = \"year vs. mpg01\", col = \"lavender\")"
   ]
  },
  {
   "cell_type": "code",
   "execution_count": 11,
   "id": "a322c43d",
   "metadata": {
    "vscode": {
     "languageId": "r"
    }
   },
   "outputs": [
    {
     "data": {
      "image/png": "[encoded data removed]",
      "text/plain": [
       "Plot with title \"origin vs. mpg01\""
      ]
     },
     "metadata": {
      "image/png": {
       "height": 420,
       "width": 420
      }
     },
     "output_type": "display_data"
    }
   ],
   "source": [
    "barplot(table(df$origin, df$mpg01),\n",
    "        beside = TRUE, col = c(\"steelblue\", \"orange\", \"darkgreen\"),\n",
    "        main = \"origin vs. mpg01\")"
   ]
  },
  {
   "cell_type": "markdown",
   "id": "2c55fead",
   "metadata": {},
   "source": [
    "Based on the boxplots I created to compare the different features with mpg01, the feature that seems to most likely be useful in predicting mpg01 is cylinders because there is a drastic difference between the cylinders for cars that have an mpg01 of 1 that is higher than the median compared to those with 0 and have a slower mpg. It appears that displacement, weight, and horsepower could also be useful in predicting mpg01 as it appears that cars that have a lower mpg tend to have higher displacement, weight, and horsepower than those with a higher mpg. Also, origin could have an impact on predicting mpg because based on the barplot, it seems that the some regions have more cars with lower mpg than other regions. Later testing confirmed that cylinders and displacement were strong predictors in both LDA and QDA. We also found that acceleration, while weak on its own, helped improve QDA when combined with other features. Adding more variables didn’t always help, especially in QDA, where it sometimes led to overfitting."
   ]
  },
  {
   "cell_type": "markdown",
   "id": "223e4d7d",
   "metadata": {},
   "source": [
    "## Problem 3"
   ]
  },
  {
   "cell_type": "code",
   "execution_count": 12,
   "id": "75bd6230",
   "metadata": {
    "vscode": {
     "languageId": "r"
    }
   },
   "outputs": [],
   "source": [
    "set.seed(123)\n",
    "\n",
    "# training set of size 300 so test set to size 92\n",
    "train_indices <- sample(1:nrow(df), 300)\n",
    "\n",
    "train <- df[train_indices, ]\n",
    "test <- df[-train_indices, ]"
   ]
  },
  {
   "cell_type": "markdown",
   "id": "5d81100e",
   "metadata": {},
   "source": [
    "## Problem 4"
   ]
  },
  {
   "cell_type": "code",
   "execution_count": null,
   "id": "a8e15cc8",
   "metadata": {
    "vscode": {
     "languageId": "r"
    }
   },
   "outputs": [],
   "source": [
    "# download the MASS package for LDA\n",
    "install.packages(\"MASS\")\n",
    "\n",
    "# use the MASS package for LDA\n",
    "library(MASS)"
   ]
  },
  {
   "cell_type": "code",
   "execution_count": 33,
   "id": "5fd4d188",
   "metadata": {
    "vscode": {
     "languageId": "r"
    }
   },
   "outputs": [
    {
     "data": {
      "text/html": [
       "0.108695652173913"
      ],
      "text/latex": [
       "0.108695652173913"
      ],
      "text/markdown": [
       "0.108695652173913"
      ],
      "text/plain": [
       "[1] 0.1086957"
      ]
     },
     "metadata": {},
     "output_type": "display_data"
    }
   ],
   "source": [
    "# Fit LDA model\n",
    "lda_fit <- lda(mpg01 ~ cylinders + displacement, data = train)\n",
    "\n",
    "# Predict on test data\n",
    "lda_pred <- predict(lda_fit, newdata = test)\n",
    "lda_class <- lda_pred$class\n",
    "\n",
    "# compute test error rate\n",
    "lda_test_error <- mean(lda_class != test$mpg01)\n",
    "lda_test_error"
   ]
  },
  {
   "cell_type": "markdown",
   "id": "4d4becec",
   "metadata": {},
   "source": [
    "## Problem 5"
   ]
  },
  {
   "cell_type": "code",
   "execution_count": 36,
   "id": "f696bf6c",
   "metadata": {
    "vscode": {
     "languageId": "r"
    }
   },
   "outputs": [
    {
     "data": {
      "text/html": [
       "0.0978260869565217"
      ],
      "text/latex": [
       "0.0978260869565217"
      ],
      "text/markdown": [
       "0.0978260869565217"
      ],
      "text/plain": [
       "[1] 0.09782609"
      ]
     },
     "metadata": {},
     "output_type": "display_data"
    }
   ],
   "source": [
    "# Fit QDA model\n",
    "qda_fit <- qda(mpg01 ~ displacement + weight + acceleration, data = train)\n",
    "\n",
    "# Predict on test data\n",
    "qda_pred <- predict(qda_fit, newdata = test)\n",
    "qda_class <- qda_pred$class\n",
    "\n",
    "# compute test error rate\n",
    "qda_test_error <- mean(qda_class != test$mpg01)\n",
    "qda_test_error"
   ]
  }
 ],
 "metadata": {
  "kernelspec": {
   "display_name": "R",
   "language": "R",
   "name": "ir"
  },
  "language_info": {
   "codemirror_mode": "r",
   "file_extension": ".r",
   "mimetype": "text/x-r-source",
   "name": "R",
   "pygments_lexer": "r",
   "version": "4.5.0"
  }
 },
 "nbformat": 4,
 "nbformat_minor": 5
}
